{
 "cells": [
  {
   "cell_type": "code",
   "execution_count": 1,
   "id": "424ae6fe",
   "metadata": {},
   "outputs": [],
   "source": [
    "import numpy as np\n",
    "import pandas as pd\n",
    "import matplotlib.pyplot as plt\n",
    "import statsmodels.api as sm\n",
    "from sklearn.model_selection import cross_val_score, train_test_split, KFold\n",
    "from sklearn.metrics import classification_report, confusion_matrix, roc_auc_score, accuracy_score, roc_curve, ConfusionMatrixDisplay\n",
    "from sklearn.metrics import make_scorer\n",
    "from sklearn.neighbors import KNeighborsClassifier\n",
    "from sklearn.ensemble import RandomForestClassifier\n",
    "from sklearn.preprocessing import StandardScaler\n",
    "import seaborn as sns\n",
    "from sklearn.linear_model import LogisticRegression\n",
    "from sklearn.model_selection import GridSearchCV, RandomizedSearchCV\n",
    "from tensorflow.keras.models import Sequential\n",
    "from tensorflow.keras.layers import InputLayer, Dense\n",
    "from tensorflow.keras.callbacks import EarlyStopping\n",
    "from scikeras.wrappers import KerasClassifier\n",
    "\n",
    "import warnings\n",
    "warnings.filterwarnings(\"ignore\")"
   ]
  },
  {
   "cell_type": "markdown",
   "id": "59eb5f78",
   "metadata": {},
   "source": [
    "We will be running 4 models: 1) KNN, 2) Random Forest, 3) Logistic Regression and 4) Nueral Network. First we will introduce our data."
   ]
  },
  {
   "cell_type": "code",
   "execution_count": 2,
   "id": "96a3a31a",
   "metadata": {},
   "outputs": [
    {
     "data": {
      "text/html": [
       "<div>\n",
       "<style scoped>\n",
       "    .dataframe tbody tr th:only-of-type {\n",
       "        vertical-align: middle;\n",
       "    }\n",
       "\n",
       "    .dataframe tbody tr th {\n",
       "        vertical-align: top;\n",
       "    }\n",
       "\n",
       "    .dataframe thead th {\n",
       "        text-align: right;\n",
       "    }\n",
       "</style>\n",
       "<table border=\"1\" class=\"dataframe\">\n",
       "  <thead>\n",
       "    <tr style=\"text-align: right;\">\n",
       "      <th></th>\n",
       "      <th>age</th>\n",
       "      <th>sex</th>\n",
       "      <th>cp</th>\n",
       "      <th>trtbps</th>\n",
       "      <th>chol</th>\n",
       "      <th>fbs</th>\n",
       "      <th>restecg</th>\n",
       "      <th>thalachh</th>\n",
       "      <th>exng</th>\n",
       "      <th>oldpeak</th>\n",
       "      <th>slp</th>\n",
       "      <th>caa</th>\n",
       "      <th>thall</th>\n",
       "      <th>output</th>\n",
       "    </tr>\n",
       "  </thead>\n",
       "  <tbody>\n",
       "    <tr>\n",
       "      <th>0</th>\n",
       "      <td>63</td>\n",
       "      <td>1</td>\n",
       "      <td>3</td>\n",
       "      <td>145</td>\n",
       "      <td>233</td>\n",
       "      <td>1</td>\n",
       "      <td>0</td>\n",
       "      <td>150</td>\n",
       "      <td>0</td>\n",
       "      <td>2.3</td>\n",
       "      <td>0</td>\n",
       "      <td>0</td>\n",
       "      <td>1</td>\n",
       "      <td>1</td>\n",
       "    </tr>\n",
       "    <tr>\n",
       "      <th>1</th>\n",
       "      <td>37</td>\n",
       "      <td>1</td>\n",
       "      <td>2</td>\n",
       "      <td>130</td>\n",
       "      <td>250</td>\n",
       "      <td>0</td>\n",
       "      <td>1</td>\n",
       "      <td>187</td>\n",
       "      <td>0</td>\n",
       "      <td>3.5</td>\n",
       "      <td>0</td>\n",
       "      <td>0</td>\n",
       "      <td>2</td>\n",
       "      <td>1</td>\n",
       "    </tr>\n",
       "    <tr>\n",
       "      <th>2</th>\n",
       "      <td>41</td>\n",
       "      <td>0</td>\n",
       "      <td>1</td>\n",
       "      <td>130</td>\n",
       "      <td>204</td>\n",
       "      <td>0</td>\n",
       "      <td>0</td>\n",
       "      <td>172</td>\n",
       "      <td>0</td>\n",
       "      <td>1.4</td>\n",
       "      <td>2</td>\n",
       "      <td>0</td>\n",
       "      <td>2</td>\n",
       "      <td>1</td>\n",
       "    </tr>\n",
       "    <tr>\n",
       "      <th>3</th>\n",
       "      <td>56</td>\n",
       "      <td>1</td>\n",
       "      <td>1</td>\n",
       "      <td>120</td>\n",
       "      <td>236</td>\n",
       "      <td>0</td>\n",
       "      <td>1</td>\n",
       "      <td>178</td>\n",
       "      <td>0</td>\n",
       "      <td>0.8</td>\n",
       "      <td>2</td>\n",
       "      <td>0</td>\n",
       "      <td>2</td>\n",
       "      <td>1</td>\n",
       "    </tr>\n",
       "    <tr>\n",
       "      <th>4</th>\n",
       "      <td>57</td>\n",
       "      <td>0</td>\n",
       "      <td>0</td>\n",
       "      <td>120</td>\n",
       "      <td>354</td>\n",
       "      <td>0</td>\n",
       "      <td>1</td>\n",
       "      <td>163</td>\n",
       "      <td>1</td>\n",
       "      <td>0.6</td>\n",
       "      <td>2</td>\n",
       "      <td>0</td>\n",
       "      <td>2</td>\n",
       "      <td>1</td>\n",
       "    </tr>\n",
       "  </tbody>\n",
       "</table>\n",
       "</div>"
      ],
      "text/plain": [
       "   age  sex  cp  trtbps  chol  fbs  restecg  thalachh  exng  oldpeak  slp  \\\n",
       "0   63    1   3     145   233    1        0       150     0      2.3    0   \n",
       "1   37    1   2     130   250    0        1       187     0      3.5    0   \n",
       "2   41    0   1     130   204    0        0       172     0      1.4    2   \n",
       "3   56    1   1     120   236    0        1       178     0      0.8    2   \n",
       "4   57    0   0     120   354    0        1       163     1      0.6    2   \n",
       "\n",
       "   caa  thall  output  \n",
       "0    0      1       1  \n",
       "1    0      2       1  \n",
       "2    0      2       1  \n",
       "3    0      2       1  \n",
       "4    0      2       1  "
      ]
     },
     "execution_count": 2,
     "metadata": {},
     "output_type": "execute_result"
    }
   ],
   "source": [
    "heart = pd.read_csv(\"heart.csv\")\n",
    "heart.head()"
   ]
  },
  {
   "cell_type": "code",
   "execution_count": 3,
   "id": "651031b1",
   "metadata": {},
   "outputs": [
    {
     "name": "stdout",
     "output_type": "stream",
     "text": [
      "<class 'pandas.core.frame.DataFrame'>\n",
      "RangeIndex: 303 entries, 0 to 302\n",
      "Data columns (total 14 columns):\n",
      " #   Column    Non-Null Count  Dtype  \n",
      "---  ------    --------------  -----  \n",
      " 0   age       303 non-null    int64  \n",
      " 1   sex       303 non-null    int64  \n",
      " 2   cp        303 non-null    int64  \n",
      " 3   trtbps    303 non-null    int64  \n",
      " 4   chol      303 non-null    int64  \n",
      " 5   fbs       303 non-null    int64  \n",
      " 6   restecg   303 non-null    int64  \n",
      " 7   thalachh  303 non-null    int64  \n",
      " 8   exng      303 non-null    int64  \n",
      " 9   oldpeak   303 non-null    float64\n",
      " 10  slp       303 non-null    int64  \n",
      " 11  caa       303 non-null    int64  \n",
      " 12  thall     303 non-null    int64  \n",
      " 13  output    303 non-null    int64  \n",
      "dtypes: float64(1), int64(13)\n",
      "memory usage: 33.3 KB\n"
     ]
    }
   ],
   "source": [
    "heart.info()"
   ]
  },
  {
   "cell_type": "markdown",
   "id": "aaeb4f23",
   "metadata": {},
   "source": [
    "Now we will describe each variable. \n",
    "\n",
    "age: in years\n",
    "\n",
    "sex: 0 - Female, 1 - Male\n",
    "\n",
    "cp: types of chest pain. 0 - Typical Angina, 1 - Atypical Angina, 2 - non-anginal pain, 3 - Asymptomatic \n",
    "\n",
    "trtbps: resting systolic blood pressure(mm Hg). Measures the pressure in you arteries when your heart beats.\n",
    "\n",
    "chol: serum cholesterol (HDL, LDL and triglycerides) (mg/dl)\n",
    "\n",
    "fbs: fasting blood sugar (1 if >= 120 mg/dl, 0 otherwise)\n",
    "\n",
    "restecg: resting electrocardiographic results: 0 - normal, 1 - ST-T wave abnormality, 2 - showing probablie or definite left ventricular hypertrophy.\n",
    "\n",
    "thalachh: maximum heart rate achieved during strenuous exercise\n",
    "\n",
    "exng: exercise induced heart pain: 1 - yes, 0 - no\n",
    "\n",
    "oldpeak: ST depression induced from exercise\n",
    "\n",
    "slp: slope of the peak exercise segment ST wave segment\n",
    "\n",
    "caa: coronary arteries with an abnormality(0-4)\n",
    "\n",
    "thall: Thallium stress test to check blood flow.\n"
   ]
  },
  {
   "cell_type": "code",
   "execution_count": 4,
   "id": "576f4b57",
   "metadata": {},
   "outputs": [
    {
     "data": {
      "text/html": [
       "<div>\n",
       "<style scoped>\n",
       "    .dataframe tbody tr th:only-of-type {\n",
       "        vertical-align: middle;\n",
       "    }\n",
       "\n",
       "    .dataframe tbody tr th {\n",
       "        vertical-align: top;\n",
       "    }\n",
       "\n",
       "    .dataframe thead th {\n",
       "        text-align: right;\n",
       "    }\n",
       "</style>\n",
       "<table border=\"1\" class=\"dataframe\">\n",
       "  <thead>\n",
       "    <tr style=\"text-align: right;\">\n",
       "      <th></th>\n",
       "      <th>age</th>\n",
       "      <th>sex</th>\n",
       "      <th>cp</th>\n",
       "      <th>trtbps</th>\n",
       "      <th>chol</th>\n",
       "      <th>fbs</th>\n",
       "      <th>restecg</th>\n",
       "      <th>thalachh</th>\n",
       "      <th>exng</th>\n",
       "      <th>oldpeak</th>\n",
       "      <th>slp</th>\n",
       "      <th>caa</th>\n",
       "      <th>thall</th>\n",
       "      <th>output</th>\n",
       "    </tr>\n",
       "  </thead>\n",
       "  <tbody>\n",
       "    <tr>\n",
       "      <th>count</th>\n",
       "      <td>303.000000</td>\n",
       "      <td>303.000000</td>\n",
       "      <td>303.000000</td>\n",
       "      <td>303.000000</td>\n",
       "      <td>303.000000</td>\n",
       "      <td>303.000000</td>\n",
       "      <td>303.000000</td>\n",
       "      <td>303.000000</td>\n",
       "      <td>303.000000</td>\n",
       "      <td>303.000000</td>\n",
       "      <td>303.000000</td>\n",
       "      <td>303.000000</td>\n",
       "      <td>303.000000</td>\n",
       "      <td>303.000000</td>\n",
       "    </tr>\n",
       "    <tr>\n",
       "      <th>mean</th>\n",
       "      <td>54.366337</td>\n",
       "      <td>0.683168</td>\n",
       "      <td>0.966997</td>\n",
       "      <td>131.623762</td>\n",
       "      <td>246.264026</td>\n",
       "      <td>0.148515</td>\n",
       "      <td>0.528053</td>\n",
       "      <td>149.646865</td>\n",
       "      <td>0.326733</td>\n",
       "      <td>1.039604</td>\n",
       "      <td>1.399340</td>\n",
       "      <td>0.729373</td>\n",
       "      <td>2.313531</td>\n",
       "      <td>0.544554</td>\n",
       "    </tr>\n",
       "    <tr>\n",
       "      <th>std</th>\n",
       "      <td>9.082101</td>\n",
       "      <td>0.466011</td>\n",
       "      <td>1.032052</td>\n",
       "      <td>17.538143</td>\n",
       "      <td>51.830751</td>\n",
       "      <td>0.356198</td>\n",
       "      <td>0.525860</td>\n",
       "      <td>22.905161</td>\n",
       "      <td>0.469794</td>\n",
       "      <td>1.161075</td>\n",
       "      <td>0.616226</td>\n",
       "      <td>1.022606</td>\n",
       "      <td>0.612277</td>\n",
       "      <td>0.498835</td>\n",
       "    </tr>\n",
       "    <tr>\n",
       "      <th>min</th>\n",
       "      <td>29.000000</td>\n",
       "      <td>0.000000</td>\n",
       "      <td>0.000000</td>\n",
       "      <td>94.000000</td>\n",
       "      <td>126.000000</td>\n",
       "      <td>0.000000</td>\n",
       "      <td>0.000000</td>\n",
       "      <td>71.000000</td>\n",
       "      <td>0.000000</td>\n",
       "      <td>0.000000</td>\n",
       "      <td>0.000000</td>\n",
       "      <td>0.000000</td>\n",
       "      <td>0.000000</td>\n",
       "      <td>0.000000</td>\n",
       "    </tr>\n",
       "    <tr>\n",
       "      <th>25%</th>\n",
       "      <td>47.500000</td>\n",
       "      <td>0.000000</td>\n",
       "      <td>0.000000</td>\n",
       "      <td>120.000000</td>\n",
       "      <td>211.000000</td>\n",
       "      <td>0.000000</td>\n",
       "      <td>0.000000</td>\n",
       "      <td>133.500000</td>\n",
       "      <td>0.000000</td>\n",
       "      <td>0.000000</td>\n",
       "      <td>1.000000</td>\n",
       "      <td>0.000000</td>\n",
       "      <td>2.000000</td>\n",
       "      <td>0.000000</td>\n",
       "    </tr>\n",
       "    <tr>\n",
       "      <th>50%</th>\n",
       "      <td>55.000000</td>\n",
       "      <td>1.000000</td>\n",
       "      <td>1.000000</td>\n",
       "      <td>130.000000</td>\n",
       "      <td>240.000000</td>\n",
       "      <td>0.000000</td>\n",
       "      <td>1.000000</td>\n",
       "      <td>153.000000</td>\n",
       "      <td>0.000000</td>\n",
       "      <td>0.800000</td>\n",
       "      <td>1.000000</td>\n",
       "      <td>0.000000</td>\n",
       "      <td>2.000000</td>\n",
       "      <td>1.000000</td>\n",
       "    </tr>\n",
       "    <tr>\n",
       "      <th>75%</th>\n",
       "      <td>61.000000</td>\n",
       "      <td>1.000000</td>\n",
       "      <td>2.000000</td>\n",
       "      <td>140.000000</td>\n",
       "      <td>274.500000</td>\n",
       "      <td>0.000000</td>\n",
       "      <td>1.000000</td>\n",
       "      <td>166.000000</td>\n",
       "      <td>1.000000</td>\n",
       "      <td>1.600000</td>\n",
       "      <td>2.000000</td>\n",
       "      <td>1.000000</td>\n",
       "      <td>3.000000</td>\n",
       "      <td>1.000000</td>\n",
       "    </tr>\n",
       "    <tr>\n",
       "      <th>max</th>\n",
       "      <td>77.000000</td>\n",
       "      <td>1.000000</td>\n",
       "      <td>3.000000</td>\n",
       "      <td>200.000000</td>\n",
       "      <td>564.000000</td>\n",
       "      <td>1.000000</td>\n",
       "      <td>2.000000</td>\n",
       "      <td>202.000000</td>\n",
       "      <td>1.000000</td>\n",
       "      <td>6.200000</td>\n",
       "      <td>2.000000</td>\n",
       "      <td>4.000000</td>\n",
       "      <td>3.000000</td>\n",
       "      <td>1.000000</td>\n",
       "    </tr>\n",
       "  </tbody>\n",
       "</table>\n",
       "</div>"
      ],
      "text/plain": [
       "              age         sex          cp      trtbps        chol         fbs  \\\n",
       "count  303.000000  303.000000  303.000000  303.000000  303.000000  303.000000   \n",
       "mean    54.366337    0.683168    0.966997  131.623762  246.264026    0.148515   \n",
       "std      9.082101    0.466011    1.032052   17.538143   51.830751    0.356198   \n",
       "min     29.000000    0.000000    0.000000   94.000000  126.000000    0.000000   \n",
       "25%     47.500000    0.000000    0.000000  120.000000  211.000000    0.000000   \n",
       "50%     55.000000    1.000000    1.000000  130.000000  240.000000    0.000000   \n",
       "75%     61.000000    1.000000    2.000000  140.000000  274.500000    0.000000   \n",
       "max     77.000000    1.000000    3.000000  200.000000  564.000000    1.000000   \n",
       "\n",
       "          restecg    thalachh        exng     oldpeak         slp         caa  \\\n",
       "count  303.000000  303.000000  303.000000  303.000000  303.000000  303.000000   \n",
       "mean     0.528053  149.646865    0.326733    1.039604    1.399340    0.729373   \n",
       "std      0.525860   22.905161    0.469794    1.161075    0.616226    1.022606   \n",
       "min      0.000000   71.000000    0.000000    0.000000    0.000000    0.000000   \n",
       "25%      0.000000  133.500000    0.000000    0.000000    1.000000    0.000000   \n",
       "50%      1.000000  153.000000    0.000000    0.800000    1.000000    0.000000   \n",
       "75%      1.000000  166.000000    1.000000    1.600000    2.000000    1.000000   \n",
       "max      2.000000  202.000000    1.000000    6.200000    2.000000    4.000000   \n",
       "\n",
       "            thall      output  \n",
       "count  303.000000  303.000000  \n",
       "mean     2.313531    0.544554  \n",
       "std      0.612277    0.498835  \n",
       "min      0.000000    0.000000  \n",
       "25%      2.000000    0.000000  \n",
       "50%      2.000000    1.000000  \n",
       "75%      3.000000    1.000000  \n",
       "max      3.000000    1.000000  "
      ]
     },
     "execution_count": 4,
     "metadata": {},
     "output_type": "execute_result"
    }
   ],
   "source": [
    "heart.describe()"
   ]
  },
  {
   "cell_type": "markdown",
   "id": "5cc5f601",
   "metadata": {},
   "source": [
    "Get dummie variables for categorical data."
   ]
  },
  {
   "cell_type": "code",
   "execution_count": 5,
   "id": "6fd1d38a",
   "metadata": {},
   "outputs": [],
   "source": [
    "cp = pd.get_dummies(heart[\"cp\"])\n",
    "cp = cp.rename({0:\"TA\", 1:\"ATA\", 2:\"NAP\", 3:\"ASY\"}, axis = 1)"
   ]
  },
  {
   "cell_type": "code",
   "execution_count": 6,
   "id": "84324bee",
   "metadata": {},
   "outputs": [],
   "source": [
    "restecg = pd.get_dummies(heart[\"restecg\"])\n",
    "restecg = restecg.rename({0:\"Normal\", 1:\"STT_ab\",2:\"hyper\"}, axis = 1)"
   ]
  },
  {
   "cell_type": "code",
   "execution_count": 7,
   "id": "b48d2b48",
   "metadata": {},
   "outputs": [],
   "source": [
    "slp = pd.get_dummies(heart[\"slp\"])\n",
    "slp = slp.rename({0:\"up\", 1:\"flat\", 2:\"down\"}, axis = 1)"
   ]
  },
  {
   "cell_type": "code",
   "execution_count": 8,
   "id": "73ac7583",
   "metadata": {},
   "outputs": [],
   "source": [
    "thall = pd.get_dummies(heart[\"thall\"])\n",
    "thall.drop(columns = 0, inplace = True)\n",
    "thall = thall.rename({1:\"normal\", 2:\"FD\", 3:\"RD\"}, axis = 1)"
   ]
  },
  {
   "cell_type": "code",
   "execution_count": 9,
   "id": "aa493b55",
   "metadata": {},
   "outputs": [
    {
     "data": {
      "text/html": [
       "<div>\n",
       "<style scoped>\n",
       "    .dataframe tbody tr th:only-of-type {\n",
       "        vertical-align: middle;\n",
       "    }\n",
       "\n",
       "    .dataframe tbody tr th {\n",
       "        vertical-align: top;\n",
       "    }\n",
       "\n",
       "    .dataframe thead th {\n",
       "        text-align: right;\n",
       "    }\n",
       "</style>\n",
       "<table border=\"1\" class=\"dataframe\">\n",
       "  <thead>\n",
       "    <tr style=\"text-align: right;\">\n",
       "      <th></th>\n",
       "      <th>age</th>\n",
       "      <th>sex</th>\n",
       "      <th>trtbps</th>\n",
       "      <th>chol</th>\n",
       "      <th>fbs</th>\n",
       "      <th>thalachh</th>\n",
       "      <th>exng</th>\n",
       "      <th>oldpeak</th>\n",
       "      <th>caa</th>\n",
       "      <th>output</th>\n",
       "      <th>...</th>\n",
       "      <th>ASY</th>\n",
       "      <th>Normal</th>\n",
       "      <th>STT_ab</th>\n",
       "      <th>hyper</th>\n",
       "      <th>up</th>\n",
       "      <th>flat</th>\n",
       "      <th>down</th>\n",
       "      <th>normal</th>\n",
       "      <th>FD</th>\n",
       "      <th>RD</th>\n",
       "    </tr>\n",
       "  </thead>\n",
       "  <tbody>\n",
       "    <tr>\n",
       "      <th>0</th>\n",
       "      <td>63</td>\n",
       "      <td>1</td>\n",
       "      <td>145</td>\n",
       "      <td>233</td>\n",
       "      <td>1</td>\n",
       "      <td>150</td>\n",
       "      <td>0</td>\n",
       "      <td>2.3</td>\n",
       "      <td>0</td>\n",
       "      <td>1</td>\n",
       "      <td>...</td>\n",
       "      <td>1</td>\n",
       "      <td>1</td>\n",
       "      <td>0</td>\n",
       "      <td>0</td>\n",
       "      <td>1</td>\n",
       "      <td>0</td>\n",
       "      <td>0</td>\n",
       "      <td>1</td>\n",
       "      <td>0</td>\n",
       "      <td>0</td>\n",
       "    </tr>\n",
       "    <tr>\n",
       "      <th>1</th>\n",
       "      <td>37</td>\n",
       "      <td>1</td>\n",
       "      <td>130</td>\n",
       "      <td>250</td>\n",
       "      <td>0</td>\n",
       "      <td>187</td>\n",
       "      <td>0</td>\n",
       "      <td>3.5</td>\n",
       "      <td>0</td>\n",
       "      <td>1</td>\n",
       "      <td>...</td>\n",
       "      <td>0</td>\n",
       "      <td>0</td>\n",
       "      <td>1</td>\n",
       "      <td>0</td>\n",
       "      <td>1</td>\n",
       "      <td>0</td>\n",
       "      <td>0</td>\n",
       "      <td>0</td>\n",
       "      <td>1</td>\n",
       "      <td>0</td>\n",
       "    </tr>\n",
       "    <tr>\n",
       "      <th>2</th>\n",
       "      <td>41</td>\n",
       "      <td>0</td>\n",
       "      <td>130</td>\n",
       "      <td>204</td>\n",
       "      <td>0</td>\n",
       "      <td>172</td>\n",
       "      <td>0</td>\n",
       "      <td>1.4</td>\n",
       "      <td>0</td>\n",
       "      <td>1</td>\n",
       "      <td>...</td>\n",
       "      <td>0</td>\n",
       "      <td>1</td>\n",
       "      <td>0</td>\n",
       "      <td>0</td>\n",
       "      <td>0</td>\n",
       "      <td>0</td>\n",
       "      <td>1</td>\n",
       "      <td>0</td>\n",
       "      <td>1</td>\n",
       "      <td>0</td>\n",
       "    </tr>\n",
       "    <tr>\n",
       "      <th>3</th>\n",
       "      <td>56</td>\n",
       "      <td>1</td>\n",
       "      <td>120</td>\n",
       "      <td>236</td>\n",
       "      <td>0</td>\n",
       "      <td>178</td>\n",
       "      <td>0</td>\n",
       "      <td>0.8</td>\n",
       "      <td>0</td>\n",
       "      <td>1</td>\n",
       "      <td>...</td>\n",
       "      <td>0</td>\n",
       "      <td>0</td>\n",
       "      <td>1</td>\n",
       "      <td>0</td>\n",
       "      <td>0</td>\n",
       "      <td>0</td>\n",
       "      <td>1</td>\n",
       "      <td>0</td>\n",
       "      <td>1</td>\n",
       "      <td>0</td>\n",
       "    </tr>\n",
       "    <tr>\n",
       "      <th>4</th>\n",
       "      <td>57</td>\n",
       "      <td>0</td>\n",
       "      <td>120</td>\n",
       "      <td>354</td>\n",
       "      <td>0</td>\n",
       "      <td>163</td>\n",
       "      <td>1</td>\n",
       "      <td>0.6</td>\n",
       "      <td>0</td>\n",
       "      <td>1</td>\n",
       "      <td>...</td>\n",
       "      <td>0</td>\n",
       "      <td>0</td>\n",
       "      <td>1</td>\n",
       "      <td>0</td>\n",
       "      <td>0</td>\n",
       "      <td>0</td>\n",
       "      <td>1</td>\n",
       "      <td>0</td>\n",
       "      <td>1</td>\n",
       "      <td>0</td>\n",
       "    </tr>\n",
       "    <tr>\n",
       "      <th>...</th>\n",
       "      <td>...</td>\n",
       "      <td>...</td>\n",
       "      <td>...</td>\n",
       "      <td>...</td>\n",
       "      <td>...</td>\n",
       "      <td>...</td>\n",
       "      <td>...</td>\n",
       "      <td>...</td>\n",
       "      <td>...</td>\n",
       "      <td>...</td>\n",
       "      <td>...</td>\n",
       "      <td>...</td>\n",
       "      <td>...</td>\n",
       "      <td>...</td>\n",
       "      <td>...</td>\n",
       "      <td>...</td>\n",
       "      <td>...</td>\n",
       "      <td>...</td>\n",
       "      <td>...</td>\n",
       "      <td>...</td>\n",
       "      <td>...</td>\n",
       "    </tr>\n",
       "    <tr>\n",
       "      <th>298</th>\n",
       "      <td>57</td>\n",
       "      <td>0</td>\n",
       "      <td>140</td>\n",
       "      <td>241</td>\n",
       "      <td>0</td>\n",
       "      <td>123</td>\n",
       "      <td>1</td>\n",
       "      <td>0.2</td>\n",
       "      <td>0</td>\n",
       "      <td>0</td>\n",
       "      <td>...</td>\n",
       "      <td>0</td>\n",
       "      <td>0</td>\n",
       "      <td>1</td>\n",
       "      <td>0</td>\n",
       "      <td>0</td>\n",
       "      <td>1</td>\n",
       "      <td>0</td>\n",
       "      <td>0</td>\n",
       "      <td>0</td>\n",
       "      <td>1</td>\n",
       "    </tr>\n",
       "    <tr>\n",
       "      <th>299</th>\n",
       "      <td>45</td>\n",
       "      <td>1</td>\n",
       "      <td>110</td>\n",
       "      <td>264</td>\n",
       "      <td>0</td>\n",
       "      <td>132</td>\n",
       "      <td>0</td>\n",
       "      <td>1.2</td>\n",
       "      <td>0</td>\n",
       "      <td>0</td>\n",
       "      <td>...</td>\n",
       "      <td>1</td>\n",
       "      <td>0</td>\n",
       "      <td>1</td>\n",
       "      <td>0</td>\n",
       "      <td>0</td>\n",
       "      <td>1</td>\n",
       "      <td>0</td>\n",
       "      <td>0</td>\n",
       "      <td>0</td>\n",
       "      <td>1</td>\n",
       "    </tr>\n",
       "    <tr>\n",
       "      <th>300</th>\n",
       "      <td>68</td>\n",
       "      <td>1</td>\n",
       "      <td>144</td>\n",
       "      <td>193</td>\n",
       "      <td>1</td>\n",
       "      <td>141</td>\n",
       "      <td>0</td>\n",
       "      <td>3.4</td>\n",
       "      <td>2</td>\n",
       "      <td>0</td>\n",
       "      <td>...</td>\n",
       "      <td>0</td>\n",
       "      <td>0</td>\n",
       "      <td>1</td>\n",
       "      <td>0</td>\n",
       "      <td>0</td>\n",
       "      <td>1</td>\n",
       "      <td>0</td>\n",
       "      <td>0</td>\n",
       "      <td>0</td>\n",
       "      <td>1</td>\n",
       "    </tr>\n",
       "    <tr>\n",
       "      <th>301</th>\n",
       "      <td>57</td>\n",
       "      <td>1</td>\n",
       "      <td>130</td>\n",
       "      <td>131</td>\n",
       "      <td>0</td>\n",
       "      <td>115</td>\n",
       "      <td>1</td>\n",
       "      <td>1.2</td>\n",
       "      <td>1</td>\n",
       "      <td>0</td>\n",
       "      <td>...</td>\n",
       "      <td>0</td>\n",
       "      <td>0</td>\n",
       "      <td>1</td>\n",
       "      <td>0</td>\n",
       "      <td>0</td>\n",
       "      <td>1</td>\n",
       "      <td>0</td>\n",
       "      <td>0</td>\n",
       "      <td>0</td>\n",
       "      <td>1</td>\n",
       "    </tr>\n",
       "    <tr>\n",
       "      <th>302</th>\n",
       "      <td>57</td>\n",
       "      <td>0</td>\n",
       "      <td>130</td>\n",
       "      <td>236</td>\n",
       "      <td>0</td>\n",
       "      <td>174</td>\n",
       "      <td>0</td>\n",
       "      <td>0.0</td>\n",
       "      <td>1</td>\n",
       "      <td>0</td>\n",
       "      <td>...</td>\n",
       "      <td>0</td>\n",
       "      <td>1</td>\n",
       "      <td>0</td>\n",
       "      <td>0</td>\n",
       "      <td>0</td>\n",
       "      <td>1</td>\n",
       "      <td>0</td>\n",
       "      <td>0</td>\n",
       "      <td>1</td>\n",
       "      <td>0</td>\n",
       "    </tr>\n",
       "  </tbody>\n",
       "</table>\n",
       "<p>303 rows × 23 columns</p>\n",
       "</div>"
      ],
      "text/plain": [
       "     age  sex  trtbps  chol  fbs  thalachh  exng  oldpeak  caa  output  ...  \\\n",
       "0     63    1     145   233    1       150     0      2.3    0       1  ...   \n",
       "1     37    1     130   250    0       187     0      3.5    0       1  ...   \n",
       "2     41    0     130   204    0       172     0      1.4    0       1  ...   \n",
       "3     56    1     120   236    0       178     0      0.8    0       1  ...   \n",
       "4     57    0     120   354    0       163     1      0.6    0       1  ...   \n",
       "..   ...  ...     ...   ...  ...       ...   ...      ...  ...     ...  ...   \n",
       "298   57    0     140   241    0       123     1      0.2    0       0  ...   \n",
       "299   45    1     110   264    0       132     0      1.2    0       0  ...   \n",
       "300   68    1     144   193    1       141     0      3.4    2       0  ...   \n",
       "301   57    1     130   131    0       115     1      1.2    1       0  ...   \n",
       "302   57    0     130   236    0       174     0      0.0    1       0  ...   \n",
       "\n",
       "     ASY  Normal  STT_ab  hyper  up  flat  down  normal  FD  RD  \n",
       "0      1       1       0      0   1     0     0       1   0   0  \n",
       "1      0       0       1      0   1     0     0       0   1   0  \n",
       "2      0       1       0      0   0     0     1       0   1   0  \n",
       "3      0       0       1      0   0     0     1       0   1   0  \n",
       "4      0       0       1      0   0     0     1       0   1   0  \n",
       "..   ...     ...     ...    ...  ..   ...   ...     ...  ..  ..  \n",
       "298    0       0       1      0   0     1     0       0   0   1  \n",
       "299    1       0       1      0   0     1     0       0   0   1  \n",
       "300    0       0       1      0   0     1     0       0   0   1  \n",
       "301    0       0       1      0   0     1     0       0   0   1  \n",
       "302    0       1       0      0   0     1     0       0   1   0  \n",
       "\n",
       "[303 rows x 23 columns]"
      ]
     },
     "execution_count": 9,
     "metadata": {},
     "output_type": "execute_result"
    }
   ],
   "source": [
    "heart = pd.concat([heart,cp,restecg,slp,thall], axis = 1)\n",
    "heart.drop(columns = [\"cp\", \"restecg\", \"slp\", \"thall\"], inplace = True)\n",
    "heart"
   ]
  },
  {
   "cell_type": "code",
   "execution_count": 10,
   "id": "093996ae",
   "metadata": {},
   "outputs": [
    {
     "data": {
      "text/html": [
       "<div>\n",
       "<style scoped>\n",
       "    .dataframe tbody tr th:only-of-type {\n",
       "        vertical-align: middle;\n",
       "    }\n",
       "\n",
       "    .dataframe tbody tr th {\n",
       "        vertical-align: top;\n",
       "    }\n",
       "\n",
       "    .dataframe thead th {\n",
       "        text-align: right;\n",
       "    }\n",
       "</style>\n",
       "<table border=\"1\" class=\"dataframe\">\n",
       "  <thead>\n",
       "    <tr style=\"text-align: right;\">\n",
       "      <th></th>\n",
       "      <th>age</th>\n",
       "      <th>sex</th>\n",
       "      <th>trtbps</th>\n",
       "      <th>chol</th>\n",
       "      <th>fbs</th>\n",
       "      <th>thalachh</th>\n",
       "      <th>exng</th>\n",
       "      <th>oldpeak</th>\n",
       "      <th>caa</th>\n",
       "      <th>TA</th>\n",
       "      <th>...</th>\n",
       "      <th>Normal</th>\n",
       "      <th>STT_ab</th>\n",
       "      <th>hyper</th>\n",
       "      <th>up</th>\n",
       "      <th>flat</th>\n",
       "      <th>down</th>\n",
       "      <th>normal</th>\n",
       "      <th>FD</th>\n",
       "      <th>RD</th>\n",
       "      <th>output</th>\n",
       "    </tr>\n",
       "  </thead>\n",
       "  <tbody>\n",
       "    <tr>\n",
       "      <th>0</th>\n",
       "      <td>63</td>\n",
       "      <td>1</td>\n",
       "      <td>145</td>\n",
       "      <td>233</td>\n",
       "      <td>1</td>\n",
       "      <td>150</td>\n",
       "      <td>0</td>\n",
       "      <td>2.3</td>\n",
       "      <td>0</td>\n",
       "      <td>0</td>\n",
       "      <td>...</td>\n",
       "      <td>1</td>\n",
       "      <td>0</td>\n",
       "      <td>0</td>\n",
       "      <td>1</td>\n",
       "      <td>0</td>\n",
       "      <td>0</td>\n",
       "      <td>1</td>\n",
       "      <td>0</td>\n",
       "      <td>0</td>\n",
       "      <td>1</td>\n",
       "    </tr>\n",
       "    <tr>\n",
       "      <th>1</th>\n",
       "      <td>37</td>\n",
       "      <td>1</td>\n",
       "      <td>130</td>\n",
       "      <td>250</td>\n",
       "      <td>0</td>\n",
       "      <td>187</td>\n",
       "      <td>0</td>\n",
       "      <td>3.5</td>\n",
       "      <td>0</td>\n",
       "      <td>0</td>\n",
       "      <td>...</td>\n",
       "      <td>0</td>\n",
       "      <td>1</td>\n",
       "      <td>0</td>\n",
       "      <td>1</td>\n",
       "      <td>0</td>\n",
       "      <td>0</td>\n",
       "      <td>0</td>\n",
       "      <td>1</td>\n",
       "      <td>0</td>\n",
       "      <td>1</td>\n",
       "    </tr>\n",
       "    <tr>\n",
       "      <th>2</th>\n",
       "      <td>41</td>\n",
       "      <td>0</td>\n",
       "      <td>130</td>\n",
       "      <td>204</td>\n",
       "      <td>0</td>\n",
       "      <td>172</td>\n",
       "      <td>0</td>\n",
       "      <td>1.4</td>\n",
       "      <td>0</td>\n",
       "      <td>0</td>\n",
       "      <td>...</td>\n",
       "      <td>1</td>\n",
       "      <td>0</td>\n",
       "      <td>0</td>\n",
       "      <td>0</td>\n",
       "      <td>0</td>\n",
       "      <td>1</td>\n",
       "      <td>0</td>\n",
       "      <td>1</td>\n",
       "      <td>0</td>\n",
       "      <td>1</td>\n",
       "    </tr>\n",
       "    <tr>\n",
       "      <th>3</th>\n",
       "      <td>56</td>\n",
       "      <td>1</td>\n",
       "      <td>120</td>\n",
       "      <td>236</td>\n",
       "      <td>0</td>\n",
       "      <td>178</td>\n",
       "      <td>0</td>\n",
       "      <td>0.8</td>\n",
       "      <td>0</td>\n",
       "      <td>0</td>\n",
       "      <td>...</td>\n",
       "      <td>0</td>\n",
       "      <td>1</td>\n",
       "      <td>0</td>\n",
       "      <td>0</td>\n",
       "      <td>0</td>\n",
       "      <td>1</td>\n",
       "      <td>0</td>\n",
       "      <td>1</td>\n",
       "      <td>0</td>\n",
       "      <td>1</td>\n",
       "    </tr>\n",
       "    <tr>\n",
       "      <th>4</th>\n",
       "      <td>57</td>\n",
       "      <td>0</td>\n",
       "      <td>120</td>\n",
       "      <td>354</td>\n",
       "      <td>0</td>\n",
       "      <td>163</td>\n",
       "      <td>1</td>\n",
       "      <td>0.6</td>\n",
       "      <td>0</td>\n",
       "      <td>1</td>\n",
       "      <td>...</td>\n",
       "      <td>0</td>\n",
       "      <td>1</td>\n",
       "      <td>0</td>\n",
       "      <td>0</td>\n",
       "      <td>0</td>\n",
       "      <td>1</td>\n",
       "      <td>0</td>\n",
       "      <td>1</td>\n",
       "      <td>0</td>\n",
       "      <td>1</td>\n",
       "    </tr>\n",
       "    <tr>\n",
       "      <th>...</th>\n",
       "      <td>...</td>\n",
       "      <td>...</td>\n",
       "      <td>...</td>\n",
       "      <td>...</td>\n",
       "      <td>...</td>\n",
       "      <td>...</td>\n",
       "      <td>...</td>\n",
       "      <td>...</td>\n",
       "      <td>...</td>\n",
       "      <td>...</td>\n",
       "      <td>...</td>\n",
       "      <td>...</td>\n",
       "      <td>...</td>\n",
       "      <td>...</td>\n",
       "      <td>...</td>\n",
       "      <td>...</td>\n",
       "      <td>...</td>\n",
       "      <td>...</td>\n",
       "      <td>...</td>\n",
       "      <td>...</td>\n",
       "      <td>...</td>\n",
       "    </tr>\n",
       "    <tr>\n",
       "      <th>298</th>\n",
       "      <td>57</td>\n",
       "      <td>0</td>\n",
       "      <td>140</td>\n",
       "      <td>241</td>\n",
       "      <td>0</td>\n",
       "      <td>123</td>\n",
       "      <td>1</td>\n",
       "      <td>0.2</td>\n",
       "      <td>0</td>\n",
       "      <td>1</td>\n",
       "      <td>...</td>\n",
       "      <td>0</td>\n",
       "      <td>1</td>\n",
       "      <td>0</td>\n",
       "      <td>0</td>\n",
       "      <td>1</td>\n",
       "      <td>0</td>\n",
       "      <td>0</td>\n",
       "      <td>0</td>\n",
       "      <td>1</td>\n",
       "      <td>0</td>\n",
       "    </tr>\n",
       "    <tr>\n",
       "      <th>299</th>\n",
       "      <td>45</td>\n",
       "      <td>1</td>\n",
       "      <td>110</td>\n",
       "      <td>264</td>\n",
       "      <td>0</td>\n",
       "      <td>132</td>\n",
       "      <td>0</td>\n",
       "      <td>1.2</td>\n",
       "      <td>0</td>\n",
       "      <td>0</td>\n",
       "      <td>...</td>\n",
       "      <td>0</td>\n",
       "      <td>1</td>\n",
       "      <td>0</td>\n",
       "      <td>0</td>\n",
       "      <td>1</td>\n",
       "      <td>0</td>\n",
       "      <td>0</td>\n",
       "      <td>0</td>\n",
       "      <td>1</td>\n",
       "      <td>0</td>\n",
       "    </tr>\n",
       "    <tr>\n",
       "      <th>300</th>\n",
       "      <td>68</td>\n",
       "      <td>1</td>\n",
       "      <td>144</td>\n",
       "      <td>193</td>\n",
       "      <td>1</td>\n",
       "      <td>141</td>\n",
       "      <td>0</td>\n",
       "      <td>3.4</td>\n",
       "      <td>2</td>\n",
       "      <td>1</td>\n",
       "      <td>...</td>\n",
       "      <td>0</td>\n",
       "      <td>1</td>\n",
       "      <td>0</td>\n",
       "      <td>0</td>\n",
       "      <td>1</td>\n",
       "      <td>0</td>\n",
       "      <td>0</td>\n",
       "      <td>0</td>\n",
       "      <td>1</td>\n",
       "      <td>0</td>\n",
       "    </tr>\n",
       "    <tr>\n",
       "      <th>301</th>\n",
       "      <td>57</td>\n",
       "      <td>1</td>\n",
       "      <td>130</td>\n",
       "      <td>131</td>\n",
       "      <td>0</td>\n",
       "      <td>115</td>\n",
       "      <td>1</td>\n",
       "      <td>1.2</td>\n",
       "      <td>1</td>\n",
       "      <td>1</td>\n",
       "      <td>...</td>\n",
       "      <td>0</td>\n",
       "      <td>1</td>\n",
       "      <td>0</td>\n",
       "      <td>0</td>\n",
       "      <td>1</td>\n",
       "      <td>0</td>\n",
       "      <td>0</td>\n",
       "      <td>0</td>\n",
       "      <td>1</td>\n",
       "      <td>0</td>\n",
       "    </tr>\n",
       "    <tr>\n",
       "      <th>302</th>\n",
       "      <td>57</td>\n",
       "      <td>0</td>\n",
       "      <td>130</td>\n",
       "      <td>236</td>\n",
       "      <td>0</td>\n",
       "      <td>174</td>\n",
       "      <td>0</td>\n",
       "      <td>0.0</td>\n",
       "      <td>1</td>\n",
       "      <td>0</td>\n",
       "      <td>...</td>\n",
       "      <td>1</td>\n",
       "      <td>0</td>\n",
       "      <td>0</td>\n",
       "      <td>0</td>\n",
       "      <td>1</td>\n",
       "      <td>0</td>\n",
       "      <td>0</td>\n",
       "      <td>1</td>\n",
       "      <td>0</td>\n",
       "      <td>0</td>\n",
       "    </tr>\n",
       "  </tbody>\n",
       "</table>\n",
       "<p>303 rows × 23 columns</p>\n",
       "</div>"
      ],
      "text/plain": [
       "     age  sex  trtbps  chol  fbs  thalachh  exng  oldpeak  caa  TA  ...  \\\n",
       "0     63    1     145   233    1       150     0      2.3    0   0  ...   \n",
       "1     37    1     130   250    0       187     0      3.5    0   0  ...   \n",
       "2     41    0     130   204    0       172     0      1.4    0   0  ...   \n",
       "3     56    1     120   236    0       178     0      0.8    0   0  ...   \n",
       "4     57    0     120   354    0       163     1      0.6    0   1  ...   \n",
       "..   ...  ...     ...   ...  ...       ...   ...      ...  ...  ..  ...   \n",
       "298   57    0     140   241    0       123     1      0.2    0   1  ...   \n",
       "299   45    1     110   264    0       132     0      1.2    0   0  ...   \n",
       "300   68    1     144   193    1       141     0      3.4    2   1  ...   \n",
       "301   57    1     130   131    0       115     1      1.2    1   1  ...   \n",
       "302   57    0     130   236    0       174     0      0.0    1   0  ...   \n",
       "\n",
       "     Normal  STT_ab  hyper  up  flat  down  normal  FD  RD  output  \n",
       "0         1       0      0   1     0     0       1   0   0       1  \n",
       "1         0       1      0   1     0     0       0   1   0       1  \n",
       "2         1       0      0   0     0     1       0   1   0       1  \n",
       "3         0       1      0   0     0     1       0   1   0       1  \n",
       "4         0       1      0   0     0     1       0   1   0       1  \n",
       "..      ...     ...    ...  ..   ...   ...     ...  ..  ..     ...  \n",
       "298       0       1      0   0     1     0       0   0   1       0  \n",
       "299       0       1      0   0     1     0       0   0   1       0  \n",
       "300       0       1      0   0     1     0       0   0   1       0  \n",
       "301       0       1      0   0     1     0       0   0   1       0  \n",
       "302       1       0      0   0     1     0       0   1   0       0  \n",
       "\n",
       "[303 rows x 23 columns]"
      ]
     },
     "execution_count": 10,
     "metadata": {},
     "output_type": "execute_result"
    }
   ],
   "source": [
    "value = heart.pop(\"output\")\n",
    "heart.insert(22, \"output\", value)\n",
    "heart"
   ]
  },
  {
   "cell_type": "markdown",
   "id": "08d4277c",
   "metadata": {},
   "source": [
    "#### What is the naive classifier?"
   ]
  },
  {
   "cell_type": "code",
   "execution_count": 11,
   "id": "d0181abb",
   "metadata": {},
   "outputs": [
    {
     "data": {
      "text/plain": [
       "0.545"
      ]
     },
     "execution_count": 11,
     "metadata": {},
     "output_type": "execute_result"
    }
   ],
   "source": [
    "naive = round(heart[heart[\"output\"] == 1][\"output\"].sum()/len(heart), 3)\n",
    "naive"
   ]
  },
  {
   "cell_type": "code",
   "execution_count": 12,
   "id": "d82f8d21",
   "metadata": {},
   "outputs": [
    {
     "data": {
      "image/png": "[encoded data removed]",
      "text/plain": [
       "<Figure size 640x480 with 1 Axes>"
      ]
     },
     "metadata": {},
     "output_type": "display_data"
    }
   ],
   "source": [
    "sns.countplot(data = heart, x = \"output\")\n",
    "plt.title(\"Counts for Heart Disease\")\n",
    "plt.xlabel(\"Heart Disease\")\n",
    "plt.ylabel(\"Counts\")\n",
    "plt.xticks(ticks = [0,1], labels = [\"No\", \"Yes\"])\n",
    "plt.savefig(\"Counts.png\", bbox_inches = \"tight\")\n",
    "plt.show()"
   ]
  },
  {
   "cell_type": "markdown",
   "id": "028a61c0",
   "metadata": {},
   "source": [
    "If we said \"yes\" to every observation. Then we would be correct 54.5% of the time. We need to check and see if our models beat this.\n",
    "\n",
    "Now we will run 10-fold cross validation on our KNN and Random Forest to get adequate hyperparemeters."
   ]
  },
  {
   "cell_type": "markdown",
   "id": "390de9c1",
   "metadata": {},
   "source": [
    "### Standardize the data and Look for good parameters for KNN and Random Forest"
   ]
  },
  {
   "cell_type": "code",
   "execution_count": 13,
   "id": "d9c97b64",
   "metadata": {},
   "outputs": [],
   "source": [
    "X = heart.iloc[:,:-1]\n",
    "y = heart.iloc[:,-1]\n",
    "kf = KFold(n_splits = 10, shuffle = True, random_state = 10)"
   ]
  },
  {
   "cell_type": "code",
   "execution_count": 14,
   "id": "1864f8dd",
   "metadata": {},
   "outputs": [],
   "source": [
    "x_train, x_test, y_train, y_test = train_test_split(X, y, test_size = 0.20, random_state = 10)"
   ]
  },
  {
   "cell_type": "code",
   "execution_count": 15,
   "id": "e4e37f85",
   "metadata": {},
   "outputs": [],
   "source": [
    "scaler = StandardScaler()\n",
    "x_train_scaled = scaler.fit_transform(x_train)\n",
    "x_test_scaled = scaler.transform(x_test)"
   ]
  },
  {
   "cell_type": "code",
   "execution_count": 16,
   "id": "6eaa987b",
   "metadata": {},
   "outputs": [],
   "source": [
    "accuracy = []\n",
    "for i in range(1, 100):\n",
    "    knn = KNeighborsClassifier(n_neighbors = i)\n",
    "    cv_score = cross_val_score(knn, x_train_scaled, y_train, cv = kf)\n",
    "    accuracy.append(cv_score.mean())"
   ]
  },
  {
   "cell_type": "code",
   "execution_count": 17,
   "id": "1e3df697",
   "metadata": {},
   "outputs": [
    {
     "data": {
      "image/png": "[encoded data removed]",
      "text/plain": [
       "<Figure size 640x480 with 1 Axes>"
      ]
     },
     "metadata": {},
     "output_type": "display_data"
    }
   ],
   "source": [
    "plt.plot(np.arange(1,100), accuracy)\n",
    "plt.xlabel(\"k-value\")\n",
    "plt.ylabel(\"Accuracy Score\")\n",
    "plt.title(\"Accuracy Score vs. k-value\")\n",
    "plt.savefig(\"CVKNN.png\", bbox_inches = \"tight\")\n",
    "plt.show()"
   ]
  },
  {
   "cell_type": "markdown",
   "id": "7c0330c3",
   "metadata": {},
   "source": [
    "We will use a k-value of 20, since this roughly maximizes our accuracy score."
   ]
  },
  {
   "cell_type": "code",
   "execution_count": 20,
   "id": "3731c20e",
   "metadata": {},
   "outputs": [],
   "source": [
    "forest = RandomForestClassifier(random_state = 10)\n",
    "parameters = {'max_depth':np.arange(1,20), 'n_estimators':np.arange(5,70,5), 'max_features':np.arange(1,10,2)}\n",
    "rf = RandomizedSearchCV(forest, parameters, cv = kf, n_iter = 30).fit(x_train,y_train)"
   ]
  },
  {
   "cell_type": "code",
   "execution_count": 21,
   "id": "d8fa7f2e",
   "metadata": {},
   "outputs": [
    {
     "data": {
      "text/plain": [
       "{'n_estimators': 50, 'max_features': 7, 'max_depth': 5}"
      ]
     },
     "execution_count": 21,
     "metadata": {},
     "output_type": "execute_result"
    }
   ],
   "source": [
    "rf.best_params_"
   ]
  },
  {
   "cell_type": "markdown",
   "id": "5a798aaa",
   "metadata": {},
   "source": [
    "Max_depth of 5 and n_estimators of 50 and max_features of 7\n",
    "\n",
    "We will now train our models"
   ]
  },
  {
   "cell_type": "markdown",
   "id": "99e07f09",
   "metadata": {},
   "source": [
    "# KNN"
   ]
  },
  {
   "cell_type": "code",
   "execution_count": 22,
   "id": "466edf23",
   "metadata": {},
   "outputs": [],
   "source": [
    "knn = KNeighborsClassifier(n_neighbors = 20)\n",
    "knn.fit(x_train_scaled, y_train)\n",
    "\n",
    "pred = knn.predict(x_test_scaled)\n",
    "y_score = knn.predict_proba(x_test_scaled)[:,1]\n",
    "score_k = accuracy_score(y_test, pred)\n",
    "cm_k = confusion_matrix(y_test, pred)\n",
    "fpr_k, tpr_k, _ = roc_curve(y_test, y_score)\n",
    "auc_k = round(roc_auc_score(y_test, y_score),3)"
   ]
  },
  {
   "cell_type": "code",
   "execution_count": 23,
   "id": "eae8d65f",
   "metadata": {},
   "outputs": [
    {
     "data": {
      "image/png": "[encoded data removed]",
      "text/plain": [
       "<Figure size 640x480 with 1 Axes>"
      ]
     },
     "metadata": {},
     "output_type": "display_data"
    }
   ],
   "source": [
    "plt.plot(fpr_k, tpr_k, label = \"AUC = \" + str(auc_k))\n",
    "plt.legend()\n",
    "plt.ylabel(\"True Positive Rate\")\n",
    "plt.xlabel(\"False Positive Rate\")\n",
    "plt.title(\"ROC Curve\")\n",
    "plt.axline([0,0], [1,1], color = \"k\")\n",
    "plt.show()"
   ]
  },
  {
   "cell_type": "code",
   "execution_count": 24,
   "id": "45d5a9ec",
   "metadata": {},
   "outputs": [
    {
     "name": "stdout",
     "output_type": "stream",
     "text": [
      "0.8688524590163934\n"
     ]
    },
    {
     "data": {
      "text/plain": [
       "<sklearn.metrics._plot.confusion_matrix.ConfusionMatrixDisplay at 0x23bf6bcf5e0>"
      ]
     },
     "execution_count": 24,
     "metadata": {},
     "output_type": "execute_result"
    },
    {
     "data": {
      "image/png": "[encoded data removed]",
      "text/plain": [
       "<Figure size 800x600 with 2 Axes>"
      ]
     },
     "metadata": {},
     "output_type": "display_data"
    }
   ],
   "source": [
    "print(score_k)\n",
    "fig, ax = plt.subplots(figsize = (8,6), dpi = 100)\n",
    "display = ConfusionMatrixDisplay(cm_k, display_labels = knn.classes_)\n",
    "ax.set(title = \"Confusion Matrix for KNN\")\n",
    "display.plot(ax = ax)"
   ]
  },
  {
   "cell_type": "code",
   "execution_count": 25,
   "id": "c4ff9749",
   "metadata": {},
   "outputs": [
    {
     "data": {
      "text/plain": [
       "(30, 3, 5, 23)"
      ]
     },
     "execution_count": 25,
     "metadata": {},
     "output_type": "execute_result"
    }
   ],
   "source": [
    "true_neg, false_pos, false_neg, true_pos = cm_k.ravel()\n",
    "true_neg, false_neg, false_pos, true_pos"
   ]
  },
  {
   "cell_type": "code",
   "execution_count": 26,
   "id": "2e712a0e",
   "metadata": {},
   "outputs": [
    {
     "name": "stdout",
     "output_type": "stream",
     "text": [
      "0.88\n",
      "0.82\n"
     ]
    }
   ],
   "source": [
    "sensitivity = true_pos/(true_pos + false_neg)\n",
    "precision = true_pos/(true_pos + false_pos)\n",
    "\n",
    "print(round(sensitivity,2))\n",
    "print(round(precision,2))"
   ]
  },
  {
   "cell_type": "code",
   "execution_count": 27,
   "id": "d3aa8abe",
   "metadata": {},
   "outputs": [
    {
     "name": "stdout",
     "output_type": "stream",
     "text": [
      "              precision    recall  f1-score   support\n",
      "\n",
      "           0       0.91      0.86      0.88        35\n",
      "           1       0.82      0.88      0.85        26\n",
      "\n",
      "    accuracy                           0.87        61\n",
      "   macro avg       0.87      0.87      0.87        61\n",
      "weighted avg       0.87      0.87      0.87        61\n",
      "\n"
     ]
    }
   ],
   "source": [
    "print(classification_report(y_test, pred))"
   ]
  },
  {
   "cell_type": "markdown",
   "id": "0380a798",
   "metadata": {},
   "source": [
    "# Random Forest"
   ]
  },
  {
   "cell_type": "code",
   "execution_count": 28,
   "id": "7b781dc9",
   "metadata": {},
   "outputs": [],
   "source": [
    "forest = RandomForestClassifier(max_depth = 5, n_estimators = 50, max_features = 7, random_state = 10)\n",
    "forest.fit(x_train, y_train)\n",
    "\n",
    "pred = forest.predict(x_test)\n",
    "y_score = forest.predict_proba(x_test)[:,1]\n",
    "score_t = accuracy_score(y_test, pred)\n",
    "cm_t = confusion_matrix(y_test, pred)\n",
    "fpr_rf, tpr_rf, _ = roc_curve(y_test, y_score)\n",
    "auc_rf = round(roc_auc_score(y_test, y_score),3)"
   ]
  },
  {
   "cell_type": "markdown",
   "id": "5411cbbe",
   "metadata": {},
   "source": [
    "### Feature Importance"
   ]
  },
  {
   "cell_type": "code",
   "execution_count": 29,
   "id": "e394ba9b",
   "metadata": {},
   "outputs": [
    {
     "name": "stdout",
     "output_type": "stream",
     "text": [
      "age = 0.05810985728359485\n",
      "sex = 0.02823015909881779\n",
      "trtbps = 0.04935711317023243\n",
      "chol = 0.052488849797852566\n",
      "fbs = 0.00544435894819581\n",
      "thalachh = 0.1054327632755372\n",
      "exng = 0.04825232062597749\n",
      "oldpeak = 0.09403464247350192\n",
      "caa = 0.1818382767254264\n",
      "TA = 0.12477075081251067\n",
      "ATA = 0.004313290432871264\n",
      "NAP = 0.023540056194978207\n",
      "ASY = 0.010236848009866786\n",
      "Normal = 0.00831809314627911\n",
      "STT_ab = 0.01062515739367378\n",
      "hyper = 0.0004422258454269096\n",
      "up = 0.0032564639499156013\n",
      "flat = 0.02314254409531853\n",
      "down = 0.026045219310544102\n",
      "normal = 0.003197784935067936\n",
      "FD = 0.10091397003622453\n",
      "RD = 0.03800925443818587\n"
     ]
    }
   ],
   "source": [
    "df_dic = {\"name\":[], \"importance\":[]}\n",
    "name = heart.columns\n",
    "for name, importance in zip(heart[name], forest.feature_importances_):\n",
    "    print(name, \"=\", importance)\n",
    "    df_dic[\"name\"].append(name) \n",
    "    df_dic[\"importance\"].append(importance)"
   ]
  },
  {
   "cell_type": "code",
   "execution_count": 30,
   "id": "99d3a477",
   "metadata": {},
   "outputs": [],
   "source": [
    "df_dic\n",
    "df = pd.DataFrame.from_dict(df_dic)\n",
    "df = df.sort_values(by = \"importance\", ascending = False).reset_index(drop = True)"
   ]
  },
  {
   "cell_type": "code",
   "execution_count": 31,
   "id": "53ba38bd",
   "metadata": {},
   "outputs": [
    {
     "data": {
      "image/png": "[encoded data removed]",
      "text/plain": [
       "<Figure size 640x480 with 1 Axes>"
      ]
     },
     "metadata": {},
     "output_type": "display_data"
    }
   ],
   "source": [
    "plt.barh(df[\"name\"], df[\"importance\"])\n",
    "plt.title(\"Feature Importance\")\n",
    "plt.xlabel(\"Importance\")\n",
    "plt.ylabel(\"Feature\")\n",
    "plt.savefig(\"Importance.png\", bbox_inches = \"tight\")\n",
    "plt.show()"
   ]
  },
  {
   "cell_type": "code",
   "execution_count": 32,
   "id": "76a84d4f",
   "metadata": {},
   "outputs": [
    {
     "data": {
      "image/png": "[encoded data removed]",
      "text/plain": [
       "<Figure size 640x480 with 1 Axes>"
      ]
     },
     "metadata": {},
     "output_type": "display_data"
    }
   ],
   "source": [
    "plt.plot(fpr_rf, tpr_rf, label = \"AUC = \" + str(auc_rf))\n",
    "plt.legend()\n",
    "plt.ylabel(\"True Positive Rate\")\n",
    "plt.xlabel(\"False Positive Rate\")\n",
    "plt.title(\"ROC Curve\")\n",
    "plt.axline([0,0], [1,1], color = \"k\")\n",
    "plt.show()"
   ]
  },
  {
   "cell_type": "code",
   "execution_count": 33,
   "id": "1278d864",
   "metadata": {
    "scrolled": true
   },
   "outputs": [
    {
     "name": "stdout",
     "output_type": "stream",
     "text": [
      "0.8032786885245902\n"
     ]
    },
    {
     "data": {
      "text/plain": [
       "<sklearn.metrics._plot.confusion_matrix.ConfusionMatrixDisplay at 0x23bf52310a0>"
      ]
     },
     "execution_count": 33,
     "metadata": {},
     "output_type": "execute_result"
    },
    {
     "data": {
      "image/png": "[encoded data removed]",
      "text/plain": [
       "<Figure size 800x600 with 2 Axes>"
      ]
     },
     "metadata": {},
     "output_type": "display_data"
    }
   ],
   "source": [
    "print(score_t)\n",
    "fig, ax = plt.subplots(figsize = (8,6), dpi = 100)\n",
    "display = ConfusionMatrixDisplay(cm_t, display_labels = forest.classes_)\n",
    "ax.set(title = \"Confusion Matrix for Random Forest\")\n",
    "display.plot(ax = ax)"
   ]
  },
  {
   "cell_type": "code",
   "execution_count": 34,
   "id": "9ab04fbe",
   "metadata": {},
   "outputs": [
    {
     "data": {
      "text/plain": [
       "(28, 5, 7, 21)"
      ]
     },
     "execution_count": 34,
     "metadata": {},
     "output_type": "execute_result"
    }
   ],
   "source": [
    "true_neg, false_pos, false_neg, true_pos = cm_t.ravel()\n",
    "true_neg, false_neg, false_pos, true_pos"
   ]
  },
  {
   "cell_type": "code",
   "execution_count": 35,
   "id": "c6471c1b",
   "metadata": {
    "scrolled": true
   },
   "outputs": [
    {
     "name": "stdout",
     "output_type": "stream",
     "text": [
      "0.81\n",
      "0.75\n"
     ]
    }
   ],
   "source": [
    "sensitivity = true_pos/(true_pos + false_neg)\n",
    "precision = true_pos/(true_pos + false_pos)\n",
    "\n",
    "print(round(sensitivity,2))\n",
    "print(round(precision,2))"
   ]
  },
  {
   "cell_type": "code",
   "execution_count": 36,
   "id": "3c678690",
   "metadata": {},
   "outputs": [
    {
     "name": "stdout",
     "output_type": "stream",
     "text": [
      "              precision    recall  f1-score   support\n",
      "\n",
      "           0       0.85      0.80      0.82        35\n",
      "           1       0.75      0.81      0.78        26\n",
      "\n",
      "    accuracy                           0.80        61\n",
      "   macro avg       0.80      0.80      0.80        61\n",
      "weighted avg       0.81      0.80      0.80        61\n",
      "\n"
     ]
    }
   ],
   "source": [
    "print(classification_report(y_test,pred))"
   ]
  },
  {
   "cell_type": "markdown",
   "id": "62aadf86",
   "metadata": {},
   "source": [
    "# Logistic Regression"
   ]
  },
  {
   "cell_type": "code",
   "execution_count": 37,
   "id": "ca9cbca4",
   "metadata": {},
   "outputs": [
    {
     "data": {
      "text/html": [
       "<style>#sk-container-id-1 {color: black;background-color: white;}#sk-container-id-1 pre{padding: 0;}#sk-container-id-1 div.sk-toggleable {background-color: white;}#sk-container-id-1 label.sk-toggleable__label {cursor: pointer;display: block;width: 100%;margin-bottom: 0;padding: 0.3em;box-sizing: border-box;text-align: center;}#sk-container-id-1 label.sk-toggleable__label-arrow:before {content: \"▸\";float: left;margin-right: 0.25em;color: #696969;}#sk-container-id-1 label.sk-toggleable__label-arrow:hover:before {color: black;}#sk-container-id-1 div.sk-estimator:hover label.sk-toggleable__label-arrow:before {color: black;}#sk-container-id-1 div.sk-toggleable__content {max-height: 0;max-width: 0;overflow: hidden;text-align: left;background-color: #f0f8ff;}#sk-container-id-1 div.sk-toggleable__content pre {margin: 0.2em;color: black;border-radius: 0.25em;background-color: #f0f8ff;}#sk-container-id-1 input.sk-toggleable__control:checked~div.sk-toggleable__content {max-height: 200px;max-width: 100%;overflow: auto;}#sk-container-id-1 input.sk-toggleable__control:checked~label.sk-toggleable__label-arrow:before {content: \"▾\";}#sk-container-id-1 div.sk-estimator input.sk-toggleable__control:checked~label.sk-toggleable__label {background-color: #d4ebff;}#sk-container-id-1 div.sk-label input.sk-toggleable__control:checked~label.sk-toggleable__label {background-color: #d4ebff;}#sk-container-id-1 input.sk-hidden--visually {border: 0;clip: rect(1px 1px 1px 1px);clip: rect(1px, 1px, 1px, 1px);height: 1px;margin: -1px;overflow: hidden;padding: 0;position: absolute;width: 1px;}#sk-container-id-1 div.sk-estimator {font-family: monospace;background-color: #f0f8ff;border: 1px dotted black;border-radius: 0.25em;box-sizing: border-box;margin-bottom: 0.5em;}#sk-container-id-1 div.sk-estimator:hover {background-color: #d4ebff;}#sk-container-id-1 div.sk-parallel-item::after {content: \"\";width: 100%;border-bottom: 1px solid gray;flex-grow: 1;}#sk-container-id-1 div.sk-label:hover label.sk-toggleable__label {background-color: #d4ebff;}#sk-container-id-1 div.sk-serial::before {content: \"\";position: absolute;border-left: 1px solid gray;box-sizing: border-box;top: 0;bottom: 0;left: 50%;z-index: 0;}#sk-container-id-1 div.sk-serial {display: flex;flex-direction: column;align-items: center;background-color: white;padding-right: 0.2em;padding-left: 0.2em;position: relative;}#sk-container-id-1 div.sk-item {position: relative;z-index: 1;}#sk-container-id-1 div.sk-parallel {display: flex;align-items: stretch;justify-content: center;background-color: white;position: relative;}#sk-container-id-1 div.sk-item::before, #sk-container-id-1 div.sk-parallel-item::before {content: \"\";position: absolute;border-left: 1px solid gray;box-sizing: border-box;top: 0;bottom: 0;left: 50%;z-index: -1;}#sk-container-id-1 div.sk-parallel-item {display: flex;flex-direction: column;z-index: 1;position: relative;background-color: white;}#sk-container-id-1 div.sk-parallel-item:first-child::after {align-self: flex-end;width: 50%;}#sk-container-id-1 div.sk-parallel-item:last-child::after {align-self: flex-start;width: 50%;}#sk-container-id-1 div.sk-parallel-item:only-child::after {width: 0;}#sk-container-id-1 div.sk-dashed-wrapped {border: 1px dashed gray;margin: 0 0.4em 0.5em 0.4em;box-sizing: border-box;padding-bottom: 0.4em;background-color: white;}#sk-container-id-1 div.sk-label label {font-family: monospace;font-weight: bold;display: inline-block;line-height: 1.2em;}#sk-container-id-1 div.sk-label-container {text-align: center;}#sk-container-id-1 div.sk-container {/* jupyter's `normalize.less` sets `[hidden] { display: none; }` but bootstrap.min.css set `[hidden] { display: none !important; }` so we also need the `!important` here to be able to override the default hidden behavior on the sphinx rendered scikit-learn.org. See: https://github.com/scikit-learn/scikit-learn/issues/21755 */display: inline-block !important;position: relative;}#sk-container-id-1 div.sk-text-repr-fallback {display: none;}</style><div id=\"sk-container-id-1\" class=\"sk-top-container\"><div class=\"sk-text-repr-fallback\"><pre>LogisticRegression(max_iter=5000)</pre><b>In a Jupyter environment, please rerun this cell to show the HTML representation or trust the notebook. <br />On GitHub, the HTML representation is unable to render, please try loading this page with nbviewer.org.</b></div><div class=\"sk-container\" hidden><div class=\"sk-item\"><div class=\"sk-estimator sk-toggleable\"><input class=\"sk-toggleable__control sk-hidden--visually\" id=\"sk-estimator-id-1\" type=\"checkbox\" checked><label for=\"sk-estimator-id-1\" class=\"sk-toggleable__label sk-toggleable__label-arrow\">LogisticRegression</label><div class=\"sk-toggleable__content\"><pre>LogisticRegression(max_iter=5000)</pre></div></div></div></div></div>"
      ],
      "text/plain": [
       "LogisticRegression(max_iter=5000)"
      ]
     },
     "execution_count": 37,
     "metadata": {},
     "output_type": "execute_result"
    }
   ],
   "source": [
    "log_reg = LogisticRegression(max_iter = 5000)\n",
    "log_reg.fit(x_train,y_train)"
   ]
  },
  {
   "cell_type": "code",
   "execution_count": 38,
   "id": "16209a2c",
   "metadata": {},
   "outputs": [],
   "source": [
    "pred = log_reg.predict(x_test)\n",
    "y_score = log_reg.predict_proba(x_test)[:,1]\n",
    "score_lr_1 = accuracy_score(y_test, pred)\n",
    "cm_lr_1 = confusion_matrix(y_test, pred)\n",
    "fpr_lr_1, tpr_lr_1, _ = roc_curve(y_test, y_score)\n",
    "auc_lr_1 = round(roc_auc_score(y_test, y_score),3)"
   ]
  },
  {
   "cell_type": "code",
   "execution_count": 39,
   "id": "fad3ab77",
   "metadata": {},
   "outputs": [
    {
     "data": {
      "image/png": "[encoded data removed]",
      "text/plain": [
       "<Figure size 640x480 with 1 Axes>"
      ]
     },
     "metadata": {},
     "output_type": "display_data"
    }
   ],
   "source": [
    "plt.plot(fpr_lr_1, tpr_lr_1, label = \"AUC = \" + str(auc_lr_1))\n",
    "plt.legend()\n",
    "plt.ylabel(\"True Positive Rate\")\n",
    "plt.xlabel(\"False Positive Rate\")\n",
    "plt.title(\"ROC Curve\")\n",
    "plt.axline([0,0], [1,1], color = \"k\")\n",
    "plt.show()"
   ]
  },
  {
   "cell_type": "code",
   "execution_count": 40,
   "id": "200014e5",
   "metadata": {},
   "outputs": [
    {
     "name": "stdout",
     "output_type": "stream",
     "text": [
      "0.7868852459016393\n"
     ]
    },
    {
     "data": {
      "text/plain": [
       "<sklearn.metrics._plot.confusion_matrix.ConfusionMatrixDisplay at 0x23bf6cc1700>"
      ]
     },
     "execution_count": 40,
     "metadata": {},
     "output_type": "execute_result"
    },
    {
     "data": {
      "image/png": "[encoded data removed]",
      "text/plain": [
       "<Figure size 800x600 with 2 Axes>"
      ]
     },
     "metadata": {},
     "output_type": "display_data"
    }
   ],
   "source": [
    "print(score_lr_1)\n",
    "fig, ax = plt.subplots(figsize = (8,6), dpi = 100)\n",
    "display = ConfusionMatrixDisplay(cm_lr_1, display_labels = log_reg.classes_)\n",
    "ax.set(title = \"Confusion Matrix for Logistic Regression\")\n",
    "display.plot(ax = ax)"
   ]
  },
  {
   "cell_type": "code",
   "execution_count": 41,
   "id": "6a955409",
   "metadata": {},
   "outputs": [
    {
     "data": {
      "text/plain": [
       "(28, 6, 7, 20)"
      ]
     },
     "execution_count": 41,
     "metadata": {},
     "output_type": "execute_result"
    }
   ],
   "source": [
    "true_neg, false_pos, false_neg, true_pos = cm_lr_1.ravel()\n",
    "true_neg, false_neg, false_pos, true_pos"
   ]
  },
  {
   "cell_type": "code",
   "execution_count": 42,
   "id": "ccefdb71",
   "metadata": {},
   "outputs": [
    {
     "name": "stdout",
     "output_type": "stream",
     "text": [
      "0.77\n",
      "0.74\n"
     ]
    }
   ],
   "source": [
    "sensitivity = true_pos/(true_pos + false_neg)\n",
    "precision = true_pos/(true_pos + false_pos)\n",
    "\n",
    "print(round(sensitivity,2))\n",
    "print(round(precision,2))"
   ]
  },
  {
   "cell_type": "code",
   "execution_count": 43,
   "id": "2d5cfb58",
   "metadata": {},
   "outputs": [
    {
     "name": "stdout",
     "output_type": "stream",
     "text": [
      "              precision    recall  f1-score   support\n",
      "\n",
      "           0       0.82      0.80      0.81        35\n",
      "           1       0.74      0.77      0.75        26\n",
      "\n",
      "    accuracy                           0.79        61\n",
      "   macro avg       0.78      0.78      0.78        61\n",
      "weighted avg       0.79      0.79      0.79        61\n",
      "\n"
     ]
    }
   ],
   "source": [
    "print(classification_report(y_test, pred))"
   ]
  },
  {
   "cell_type": "markdown",
   "id": "e2c52be9",
   "metadata": {},
   "source": [
    "# Nueral Network"
   ]
  },
  {
   "cell_type": "code",
   "execution_count": 44,
   "id": "dd0f5ecd",
   "metadata": {},
   "outputs": [],
   "source": [
    "model = Sequential()\n",
    "model.add(InputLayer(input_shape = (x_train.shape[1],)))\n",
    "model.add(Dense(8, activation = \"relu\"))\n",
    "model.add(Dense(1, activation = \"sigmoid\"))"
   ]
  },
  {
   "cell_type": "code",
   "execution_count": 45,
   "id": "9eae1a79",
   "metadata": {
    "scrolled": true
   },
   "outputs": [
    {
     "name": "stdout",
     "output_type": "stream",
     "text": [
      "Model: \"sequential\"\n",
      "_________________________________________________________________\n",
      " Layer (type)                Output Shape              Param #   \n",
      "=================================================================\n",
      " dense (Dense)               (None, 8)                 184       \n",
      "                                                                 \n",
      " dense_1 (Dense)             (None, 1)                 9         \n",
      "                                                                 \n",
      "=================================================================\n",
      "Total params: 193\n",
      "Trainable params: 193\n",
      "Non-trainable params: 0\n",
      "_________________________________________________________________\n",
      "None\n"
     ]
    }
   ],
   "source": [
    "print(model.summary())"
   ]
  },
  {
   "cell_type": "code",
   "execution_count": 46,
   "id": "1949ebf7",
   "metadata": {},
   "outputs": [],
   "source": [
    "es = EarlyStopping(monitor = \"val_loss\", mode = 'min', verbose = 1, patience = 10)"
   ]
  },
  {
   "cell_type": "code",
   "execution_count": 47,
   "id": "30169b5d",
   "metadata": {},
   "outputs": [
    {
     "name": "stdout",
     "output_type": "stream",
     "text": [
      "Epoch 1/1000\n",
      "17/17 [==============================] - 1s 18ms/step - loss: 1.1414 - accuracy: 0.4321 - val_loss: 0.9772 - val_accuracy: 0.4375\n",
      "Epoch 2/1000\n",
      "17/17 [==============================] - 0s 5ms/step - loss: 1.0453 - accuracy: 0.4383 - val_loss: 0.9044 - val_accuracy: 0.4375\n",
      "Epoch 3/1000\n",
      "17/17 [==============================] - 0s 5ms/step - loss: 0.9650 - accuracy: 0.4691 - val_loss: 0.8429 - val_accuracy: 0.4625\n",
      "Epoch 4/1000\n",
      "17/17 [==============================] - 0s 5ms/step - loss: 0.8951 - accuracy: 0.5000 - val_loss: 0.7912 - val_accuracy: 0.5000\n",
      "Epoch 5/1000\n",
      "17/17 [==============================] - 0s 5ms/step - loss: 0.8393 - accuracy: 0.5370 - val_loss: 0.7467 - val_accuracy: 0.5250\n",
      "Epoch 6/1000\n",
      "17/17 [==============================] - 0s 5ms/step - loss: 0.7889 - accuracy: 0.5432 - val_loss: 0.7099 - val_accuracy: 0.5750\n",
      "Epoch 7/1000\n",
      "17/17 [==============================] - 0s 5ms/step - loss: 0.7438 - accuracy: 0.5864 - val_loss: 0.6790 - val_accuracy: 0.6250\n",
      "Epoch 8/1000\n",
      "17/17 [==============================] - 0s 5ms/step - loss: 0.7040 - accuracy: 0.6173 - val_loss: 0.6513 - val_accuracy: 0.6500\n",
      "Epoch 9/1000\n",
      "17/17 [==============================] - 0s 5ms/step - loss: 0.6674 - accuracy: 0.6420 - val_loss: 0.6272 - val_accuracy: 0.6625\n",
      "Epoch 10/1000\n",
      "17/17 [==============================] - 0s 5ms/step - loss: 0.6331 - accuracy: 0.6605 - val_loss: 0.6057 - val_accuracy: 0.6625\n",
      "Epoch 11/1000\n",
      "17/17 [==============================] - 0s 5ms/step - loss: 0.6038 - accuracy: 0.6790 - val_loss: 0.5876 - val_accuracy: 0.6625\n",
      "Epoch 12/1000\n",
      "17/17 [==============================] - 0s 5ms/step - loss: 0.5791 - accuracy: 0.7099 - val_loss: 0.5735 - val_accuracy: 0.6625\n",
      "Epoch 13/1000\n",
      "17/17 [==============================] - 0s 5ms/step - loss: 0.5565 - accuracy: 0.7160 - val_loss: 0.5607 - val_accuracy: 0.6625\n",
      "Epoch 14/1000\n",
      "17/17 [==============================] - 0s 5ms/step - loss: 0.5359 - accuracy: 0.7346 - val_loss: 0.5494 - val_accuracy: 0.6875\n",
      "Epoch 15/1000\n",
      "17/17 [==============================] - 0s 5ms/step - loss: 0.5147 - accuracy: 0.7407 - val_loss: 0.5397 - val_accuracy: 0.6875\n",
      "Epoch 16/1000\n",
      "17/17 [==============================] - 0s 5ms/step - loss: 0.4976 - accuracy: 0.7593 - val_loss: 0.5306 - val_accuracy: 0.7000\n",
      "Epoch 17/1000\n",
      "17/17 [==============================] - 0s 5ms/step - loss: 0.4810 - accuracy: 0.7716 - val_loss: 0.5224 - val_accuracy: 0.7125\n",
      "Epoch 18/1000\n",
      "17/17 [==============================] - 0s 5ms/step - loss: 0.4655 - accuracy: 0.7778 - val_loss: 0.5155 - val_accuracy: 0.7250\n",
      "Epoch 19/1000\n",
      "17/17 [==============================] - 0s 5ms/step - loss: 0.4515 - accuracy: 0.7840 - val_loss: 0.5094 - val_accuracy: 0.7375\n",
      "Epoch 20/1000\n",
      "17/17 [==============================] - 0s 6ms/step - loss: 0.4368 - accuracy: 0.7840 - val_loss: 0.5049 - val_accuracy: 0.7500\n",
      "Epoch 21/1000\n",
      "17/17 [==============================] - 0s 5ms/step - loss: 0.4249 - accuracy: 0.7963 - val_loss: 0.4987 - val_accuracy: 0.7500\n",
      "Epoch 22/1000\n",
      "17/17 [==============================] - 0s 5ms/step - loss: 0.4135 - accuracy: 0.8025 - val_loss: 0.4944 - val_accuracy: 0.7750\n",
      "Epoch 23/1000\n",
      "17/17 [==============================] - 0s 6ms/step - loss: 0.4034 - accuracy: 0.8210 - val_loss: 0.4913 - val_accuracy: 0.7750\n",
      "Epoch 24/1000\n",
      "17/17 [==============================] - 0s 5ms/step - loss: 0.3945 - accuracy: 0.8272 - val_loss: 0.4879 - val_accuracy: 0.7875\n",
      "Epoch 25/1000\n",
      "17/17 [==============================] - 0s 5ms/step - loss: 0.3856 - accuracy: 0.8519 - val_loss: 0.4854 - val_accuracy: 0.7875\n",
      "Epoch 26/1000\n",
      "17/17 [==============================] - 0s 5ms/step - loss: 0.3776 - accuracy: 0.8519 - val_loss: 0.4842 - val_accuracy: 0.8000\n",
      "Epoch 27/1000\n",
      "17/17 [==============================] - 0s 5ms/step - loss: 0.3704 - accuracy: 0.8519 - val_loss: 0.4821 - val_accuracy: 0.8000\n",
      "Epoch 28/1000\n",
      "17/17 [==============================] - 0s 5ms/step - loss: 0.3632 - accuracy: 0.8519 - val_loss: 0.4806 - val_accuracy: 0.8000\n",
      "Epoch 29/1000\n",
      "17/17 [==============================] - 0s 5ms/step - loss: 0.3569 - accuracy: 0.8519 - val_loss: 0.4800 - val_accuracy: 0.8000\n",
      "Epoch 30/1000\n",
      "17/17 [==============================] - 0s 5ms/step - loss: 0.3513 - accuracy: 0.8704 - val_loss: 0.4791 - val_accuracy: 0.8000\n",
      "Epoch 31/1000\n",
      "17/17 [==============================] - 0s 5ms/step - loss: 0.3459 - accuracy: 0.8642 - val_loss: 0.4782 - val_accuracy: 0.8000\n",
      "Epoch 32/1000\n",
      "17/17 [==============================] - 0s 5ms/step - loss: 0.3398 - accuracy: 0.8642 - val_loss: 0.4780 - val_accuracy: 0.8125\n",
      "Epoch 33/1000\n",
      "17/17 [==============================] - 0s 5ms/step - loss: 0.3357 - accuracy: 0.8642 - val_loss: 0.4784 - val_accuracy: 0.8125\n",
      "Epoch 34/1000\n",
      "17/17 [==============================] - 0s 5ms/step - loss: 0.3301 - accuracy: 0.8642 - val_loss: 0.4789 - val_accuracy: 0.8125\n",
      "Epoch 35/1000\n",
      "17/17 [==============================] - 0s 5ms/step - loss: 0.3262 - accuracy: 0.8642 - val_loss: 0.4798 - val_accuracy: 0.8125\n",
      "Epoch 36/1000\n",
      "17/17 [==============================] - 0s 5ms/step - loss: 0.3214 - accuracy: 0.8704 - val_loss: 0.4800 - val_accuracy: 0.8125\n",
      "Epoch 37/1000\n",
      "17/17 [==============================] - 0s 5ms/step - loss: 0.3181 - accuracy: 0.8642 - val_loss: 0.4804 - val_accuracy: 0.8125\n",
      "Epoch 38/1000\n",
      "17/17 [==============================] - 0s 5ms/step - loss: 0.3145 - accuracy: 0.8642 - val_loss: 0.4814 - val_accuracy: 0.8125\n",
      "Epoch 39/1000\n",
      "17/17 [==============================] - 0s 5ms/step - loss: 0.3108 - accuracy: 0.8704 - val_loss: 0.4815 - val_accuracy: 0.8125\n",
      "Epoch 40/1000\n",
      "17/17 [==============================] - 0s 5ms/step - loss: 0.3075 - accuracy: 0.8704 - val_loss: 0.4828 - val_accuracy: 0.8125\n",
      "Epoch 41/1000\n",
      "17/17 [==============================] - 0s 5ms/step - loss: 0.3042 - accuracy: 0.8704 - val_loss: 0.4834 - val_accuracy: 0.8125\n",
      "Epoch 42/1000\n",
      "17/17 [==============================] - 0s 5ms/step - loss: 0.3012 - accuracy: 0.8765 - val_loss: 0.4839 - val_accuracy: 0.8125\n",
      "Epoch 42: early stopping\n"
     ]
    },
    {
     "data": {
      "text/plain": [
       "<keras.callbacks.History at 0x23bf71aff10>"
      ]
     },
     "execution_count": 47,
     "metadata": {},
     "output_type": "execute_result"
    }
   ],
   "source": [
    "model.compile(loss = \"binary_crossentropy\", metrics = [\"accuracy\"], optimizer = \"adam\")\n",
    "model.fit(x_train_scaled, y_train, validation_split = 0.33, epochs = 1000, batch_size = 10, verbose = 1, callbacks = es)"
   ]
  },
  {
   "cell_type": "code",
   "execution_count": 48,
   "id": "39378f66",
   "metadata": {},
   "outputs": [
    {
     "name": "stdout",
     "output_type": "stream",
     "text": [
      "0.8524590134620667\n"
     ]
    }
   ],
   "source": [
    "res_bce, res_acc = model.evaluate(x_test_scaled, y_test, verbose = 0)\n",
    "print(res_acc)"
   ]
  },
  {
   "cell_type": "code",
   "execution_count": 49,
   "id": "c9cc851f",
   "metadata": {},
   "outputs": [
    {
     "name": "stdout",
     "output_type": "stream",
     "text": [
      "2/2 [==============================] - 0s 2ms/step\n"
     ]
    }
   ],
   "source": [
    "pred = model.predict(x_test_scaled)\n",
    "fpr_nn, tpr_nn, _ = roc_curve(y_test, pred)\n",
    "auc_nn = round(roc_auc_score(y_test, pred),3)\n",
    "pred = pred > 0.5\n",
    "cm_nn = confusion_matrix(y_test, pred)\n",
    "score_nn = accuracy_score(y_test, pred)"
   ]
  },
  {
   "cell_type": "code",
   "execution_count": 50,
   "id": "42751e02",
   "metadata": {},
   "outputs": [
    {
     "data": {
      "image/png": "[encoded data removed]",
      "text/plain": [
       "<Figure size 640x480 with 1 Axes>"
      ]
     },
     "metadata": {},
     "output_type": "display_data"
    }
   ],
   "source": [
    "plt.plot(fpr_nn, tpr_nn, label = \"AUC = \" + str(auc_nn))\n",
    "plt.legend()\n",
    "plt.ylabel(\"True Positive Rate\")\n",
    "plt.xlabel(\"False Positive Rate\")\n",
    "plt.title(\"ROC Curve\")\n",
    "plt.axline([0,0], [1,1], color = \"k\")\n",
    "plt.show()"
   ]
  },
  {
   "cell_type": "code",
   "execution_count": 51,
   "id": "6a1ecdeb",
   "metadata": {
    "scrolled": true
   },
   "outputs": [
    {
     "name": "stdout",
     "output_type": "stream",
     "text": [
      "0.8524590163934426\n"
     ]
    },
    {
     "data": {
      "text/plain": [
       "<sklearn.metrics._plot.confusion_matrix.ConfusionMatrixDisplay at 0x23bf6d08520>"
      ]
     },
     "execution_count": 51,
     "metadata": {},
     "output_type": "execute_result"
    },
    {
     "data": {
      "image/png": "[encoded data removed]",
      "text/plain": [
       "<Figure size 800x600 with 2 Axes>"
      ]
     },
     "metadata": {},
     "output_type": "display_data"
    }
   ],
   "source": [
    "print(score_nn)\n",
    "fig, ax = plt.subplots(figsize = (8,6), dpi = 100)\n",
    "display = ConfusionMatrixDisplay(cm_nn)\n",
    "ax.set(title = \"Confusion Matrix for the Neural Network\")\n",
    "display.plot(ax = ax)"
   ]
  },
  {
   "cell_type": "code",
   "execution_count": 52,
   "id": "2eb853bb",
   "metadata": {},
   "outputs": [
    {
     "data": {
      "text/plain": [
       "(29, 3, 6, 23)"
      ]
     },
     "execution_count": 52,
     "metadata": {},
     "output_type": "execute_result"
    }
   ],
   "source": [
    "true_neg, false_pos, false_neg, true_pos = cm_nn.ravel()\n",
    "true_neg, false_neg, false_pos, true_pos"
   ]
  },
  {
   "cell_type": "code",
   "execution_count": 53,
   "id": "100d9e78",
   "metadata": {},
   "outputs": [
    {
     "name": "stdout",
     "output_type": "stream",
     "text": [
      "0.88\n",
      "0.79\n"
     ]
    }
   ],
   "source": [
    "sensitivity = true_pos/(true_pos + false_neg)\n",
    "precision = true_pos/(true_pos + false_pos)\n",
    "\n",
    "print(round(sensitivity,2))\n",
    "print(round(precision,2))"
   ]
  },
  {
   "cell_type": "code",
   "execution_count": 54,
   "id": "56f25676",
   "metadata": {},
   "outputs": [
    {
     "name": "stdout",
     "output_type": "stream",
     "text": [
      "              precision    recall  f1-score   support\n",
      "\n",
      "           0       0.91      0.83      0.87        35\n",
      "           1       0.79      0.88      0.84        26\n",
      "\n",
      "    accuracy                           0.85        61\n",
      "   macro avg       0.85      0.86      0.85        61\n",
      "weighted avg       0.86      0.85      0.85        61\n",
      "\n"
     ]
    }
   ],
   "source": [
    "print(classification_report(y_test, pred))"
   ]
  },
  {
   "cell_type": "markdown",
   "id": "4e37cf8e",
   "metadata": {},
   "source": [
    "# Results"
   ]
  },
  {
   "cell_type": "code",
   "execution_count": 55,
   "id": "ff3d422f",
   "metadata": {},
   "outputs": [
    {
     "data": {
      "image/png": "[encoded data removed]",
      "text/plain": [
       "<Figure size 640x480 with 1 Axes>"
      ]
     },
     "metadata": {},
     "output_type": "display_data"
    }
   ],
   "source": [
    "plt.plot(fpr_k, tpr_k,label = \"KNN AUC = \" + str(auc_k))\n",
    "plt.plot(fpr_rf, tpr_rf, label = \"RF AUC = \" + str(auc_rf))\n",
    "plt.plot(fpr_lr_1, tpr_lr_1, label = \"LR AUC =\" + str(auc_lr_1))\n",
    "plt.plot(fpr_nn, tpr_nn, label = \"NN AUC = \" + str(auc_nn))\n",
    "plt.xlabel(\"False Positive Rate\")\n",
    "plt.ylabel(\"True Positive Rate\")\n",
    "plt.title(\"ROC Curve's\")\n",
    "plt.legend()\n",
    "plt.axline([0,0], [1,1], color = \"k\")\n",
    "plt.savefig(\"ROC.png\", bbox_inches = \"tight\")\n",
    "plt.show()"
   ]
  },
  {
   "cell_type": "code",
   "execution_count": 56,
   "id": "94efa654",
   "metadata": {},
   "outputs": [
    {
     "name": "stdout",
     "output_type": "stream",
     "text": [
      "KNN Accuracy Score: 0.8689\n",
      "Random Forest Accuracy Score: 0.8033\n",
      "Logistic Regression Accuracy Score: 0.7869\n",
      "Neural Network Accuracy Score: 0.8525\n"
     ]
    }
   ],
   "source": [
    "print(\"KNN Accuracy Score: \" + str(round(score_k,4)))\n",
    "print(\"Random Forest Accuracy Score: \" + str(round(score_t,4)))\n",
    "print(\"Logistic Regression Accuracy Score: \" + str(round(score_lr_1,4)))\n",
    "print(\"Neural Network Accuracy Score: \" + str(round(score_nn,4)))"
   ]
  },
  {
   "cell_type": "code",
   "execution_count": null,
   "id": "d3f3b0c8",
   "metadata": {},
   "outputs": [],
   "source": []
  }
 ],
 "metadata": {
  "kernelspec": {
   "display_name": "Python 3 (ipykernel)",
   "language": "python",
   "name": "python3"
  },
  "language_info": {
   "codemirror_mode": {
    "name": "ipython",
    "version": 3
   },
   "file_extension": ".py",
   "mimetype": "text/x-python",
   "name": "python",
   "nbconvert_exporter": "python",
   "pygments_lexer": "ipython3",
   "version": "3.8.16"
  }
 },
 "nbformat": 4,
 "nbformat_minor": 5
}
