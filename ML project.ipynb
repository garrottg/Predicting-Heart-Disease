{
 "cells": [
  {
   "cell_type": "code",
   "execution_count": null,
   "id": "424ae6fe",
   "metadata": {},
   "outputs": [],
   "source": [
    "import numpy as np\n",
    "import pandas as pd\n",
    "import matplotlib.pyplot as plt\n",
    "import statsmodels.api as sm\n",
    "from sklearn.model_selection import cross_val_score, train_test_split, KFold\n",
    "from sklearn.metrics import classification_report, confusion_matrix, roc_auc_score, accuracy_score, roc_curve\n",
    "from sklearn.neighbors import KNeighborsClassifier\n",
    "from sklearn.ensemble import RandomForestClassifier\n",
    "import seaborn as sns\n",
    "from sklearn.linear_model import LogisticRegression\n",
    "from sklearn.model_selection import GridSearchCV"
   ]
  },
  {
   "cell_type": "markdown",
   "id": "59eb5f78",
   "metadata": {},
   "source": [
    "We will be running 3 models: 1) KNN, 2) Random Forest, 3) Logistic Regression. First we will introduce our data."
   ]
  },
  {
   "cell_type": "code",
   "execution_count": null,
   "id": "96a3a31a",
   "metadata": {},
   "outputs": [],
   "source": [
    "heart = pd.read_csv(\"heart.csv\")\n",
    "heart.head()"
   ]
  },
  {
   "cell_type": "code",
   "execution_count": null,
   "id": "651031b1",
   "metadata": {},
   "outputs": [],
   "source": [
    "heart.info()"
   ]
  },
  {
   "cell_type": "markdown",
   "id": "aaeb4f23",
   "metadata": {},
   "source": [
    "Now we will describe each variable. \n",
    "\n",
    "age: in years\n",
    "\n",
    "sex: 0 - Female, 1 - Male\n",
    "\n",
    "cp: types of chest pain. 0 - Typical Angina, 1 - Atypical Angina, 2 - non-anginal pain, 3 - Asymptomatic \n",
    "\n",
    "trtbps: resting systolic blood pressure(mm Hg). Measures the pressure in you arteries when your heart beats.\n",
    "\n",
    "chol: serum cholesterol (HDL, LDL and triglycerides) (mg/dl)\n",
    "\n",
    "fbs: fasting blood sugar (1 if >= 120 mg/dl, 0 otherwise)\n",
    "\n",
    "restecg: resting electrocardiographic results: 0 - normal, 1 - ST-T wave abnormality, 2 - showing probablie or definite left ventricular hypertrophy.\n",
    "\n",
    "thalachh: maximum heart rate achieved during strenuous exercise\n",
    "\n",
    "exng: exercise induced heart pain: 1 - yes, 0 - no\n",
    "\n",
    "oldpeak: ST depression induced from exercise\n",
    "\n",
    "slp: slope of the peak exercise segment ST wave segment\n",
    "\n",
    "caa: coronary arteries with an abnormality(0-4)\n",
    "\n",
    "thall: Thallium stress test to check blood flow.\n"
   ]
  },
  {
   "cell_type": "code",
   "execution_count": null,
   "id": "0a8d811b",
   "metadata": {},
   "outputs": [],
   "source": [
    "heart.describe()"
   ]
  },
  {
   "cell_type": "markdown",
   "id": "5cc5f601",
   "metadata": {},
   "source": [
    "Get dummie variables for categorical data."
   ]
  },
  {
   "cell_type": "code",
   "execution_count": null,
   "id": "6fd1d38a",
   "metadata": {},
   "outputs": [],
   "source": [
    "cp = pd.get_dummies(heart[\"cp\"])\n",
    "cp = cp.rename({0:\"TA\", 1:\"ATA\", 2:\"NAP\", 3:\"ASY\"}, axis = 1)"
   ]
  },
  {
   "cell_type": "code",
   "execution_count": null,
   "id": "84324bee",
   "metadata": {},
   "outputs": [],
   "source": [
    "restecg = pd.get_dummies(heart[\"restecg\"])\n",
    "restecg = restecg.rename({0:\"Normal\", 1:\"STT_ab\",2:\"hyper\"}, axis = 1)"
   ]
  },
  {
   "cell_type": "code",
   "execution_count": null,
   "id": "b48d2b48",
   "metadata": {},
   "outputs": [],
   "source": [
    "slp = pd.get_dummies(heart[\"slp\"])\n",
    "slp = slp.rename({0:\"up\", 1:\"flat\", 2:\"down\"}, axis = 1)"
   ]
  },
  {
   "cell_type": "code",
   "execution_count": null,
   "id": "73ac7583",
   "metadata": {},
   "outputs": [],
   "source": [
    "thall = pd.get_dummies(heart[\"thall\"])\n",
    "thall.drop(columns = 0, inplace = True)\n",
    "thall = thall.rename({1:\"normal\", 2:\"FD\", 3:\"RD\"}, axis = 1)"
   ]
  },
  {
   "cell_type": "code",
   "execution_count": null,
   "id": "aa493b55",
   "metadata": {},
   "outputs": [],
   "source": [
    "heart = pd.concat([heart,cp,restecg,slp,thall], axis = 1)\n",
    "heart.drop(columns = [\"cp\", \"restecg\", \"slp\", \"thall\"], inplace = True)\n",
    "heart"
   ]
  },
  {
   "cell_type": "code",
   "execution_count": null,
   "id": "093996ae",
   "metadata": {},
   "outputs": [],
   "source": [
    "value = heart.pop(\"output\")\n",
    "heart.insert(22, \"output\", value)\n",
    "heart"
   ]
  },
  {
   "cell_type": "markdown",
   "id": "08d4277c",
   "metadata": {},
   "source": [
    "#### What is the naive classifier?"
   ]
  },
  {
   "cell_type": "code",
   "execution_count": null,
   "id": "d0181abb",
   "metadata": {},
   "outputs": [],
   "source": [
    "naive = round(heart[heart[\"output\"] == 1][\"output\"].sum()/len(heart), 3)\n",
    "naive"
   ]
  },
  {
   "cell_type": "code",
   "execution_count": null,
   "id": "d82f8d21",
   "metadata": {},
   "outputs": [],
   "source": [
    "sns.countplot(data = heart, x = \"output\")\n",
    "plt.title(\"Counts for Heart Disease\")\n",
    "plt.xlabel(\"Heart Disease\")\n",
    "plt.ylabel(\"Counts\")\n",
    "plt.xticks(ticks = [0,1], labels = [\"No\", \"Yes\"])\n",
    "plt.savefig(\"Counts.png\", bbox_inches = \"tight\")\n",
    "plt.show()"
   ]
  },
  {
   "cell_type": "markdown",
   "id": "028a61c0",
   "metadata": {},
   "source": [
    "If we said \"yes\" to every observation. Then we would be correct 54.5% of the time. We need to check and see if our models beat this.\n",
    "\n",
    "Now we will run 10-fold cross validation on our KNN and Random Forest to get adequate tuning parameters. For the Random Forest we will use 5 features, since this is roughly the square root of the number of features."
   ]
  },
  {
   "cell_type": "code",
   "execution_count": null,
   "id": "d9c97b64",
   "metadata": {},
   "outputs": [],
   "source": [
    "X = heart.iloc[:,:-1]\n",
    "y = heart.iloc[:,-1]\n",
    "kf = KFold(n_splits = 10, shuffle = True)"
   ]
  },
  {
   "cell_type": "code",
   "execution_count": null,
   "id": "6eaa987b",
   "metadata": {},
   "outputs": [],
   "source": [
    "accuracy = []\n",
    "for i in range(1, 200):\n",
    "    knn = KNeighborsClassifier(n_neighbors = i)\n",
    "    cv_score = cross_val_score(knn, X, y, cv = kf)\n",
    "    accuracy.append(cv_score.mean())"
   ]
  },
  {
   "cell_type": "code",
   "execution_count": null,
   "id": "1e3df697",
   "metadata": {},
   "outputs": [],
   "source": [
    "plt.plot(np.arange(1,200), accuracy)\n",
    "plt.xlabel(\"k-value\")\n",
    "plt.ylabel(\"Accuracy Score\")\n",
    "plt.title(\"Accuracy Score vs. k-value\")\n",
    "plt.savefig(\"CVKNN.png\", bbox_inches = \"tight\")\n",
    "plt.show()"
   ]
  },
  {
   "cell_type": "markdown",
   "id": "7c0330c3",
   "metadata": {},
   "source": [
    "We will use a k-value of 15, since this roughly maximizes our accuracy score."
   ]
  },
  {
   "cell_type": "code",
   "execution_count": null,
   "id": "3731c20e",
   "metadata": {},
   "outputs": [],
   "source": [
    "forest = RandomForestClassifier(random_state = 10, max_features = 5)\n",
    "parameters = {'max_depth':np.arange(1,20), 'n_estimators':np.arange(5,70,5)}\n",
    "rf = GridSearchCV(forest, parameters, cv = kf).fit(X,y)"
   ]
  },
  {
   "cell_type": "code",
   "execution_count": null,
   "id": "d8fa7f2e",
   "metadata": {},
   "outputs": [],
   "source": [
    "rf.best_params_"
   ]
  },
  {
   "cell_type": "markdown",
   "id": "5a798aaa",
   "metadata": {},
   "source": [
    "Max_depth of 6 and n_estimators of 40\n",
    "\n",
    "Backward Variable selection was done for the Logistic Regression in R\n",
    "\n",
    "We will now train our models"
   ]
  },
  {
   "cell_type": "code",
   "execution_count": null,
   "id": "77afd7d3",
   "metadata": {},
   "outputs": [],
   "source": [
    "xtrain, xtest, ytrain, ytest = train_test_split(X, y, test_size = 0.20, random_state = 10)"
   ]
  },
  {
   "cell_type": "markdown",
   "id": "99e07f09",
   "metadata": {},
   "source": [
    "# KNN"
   ]
  },
  {
   "cell_type": "code",
   "execution_count": null,
   "id": "466edf23",
   "metadata": {},
   "outputs": [],
   "source": [
    "knn = KNeighborsClassifier(n_neighbors = 15)\n",
    "knn.fit(xtrain, ytrain)\n",
    "\n",
    "pred = knn.predict(xtest)\n",
    "y_score = knn.predict_proba(xtest)[:,1]\n",
    "score_k = accuracy_score(ytest, pred)\n",
    "cm_k = confusion_matrix(ytest, pred)\n",
    "fpr_k, tpr_k, _ = roc_curve(ytest, y_score)\n",
    "auc_k = round(roc_auc_score(ytest, y_score),3)"
   ]
  },
  {
   "cell_type": "code",
   "execution_count": null,
   "id": "eae8d65f",
   "metadata": {},
   "outputs": [],
   "source": [
    "plt.plot(fpr_k, tpr_k, label = \"AUC = \" + str(auc_k))\n",
    "plt.legend()\n",
    "plt.ylabel(\"True Positive Rate\")\n",
    "plt.xlabel(\"False Positive Rate\")\n",
    "plt.title(\"ROC Curve\")\n",
    "plt.axline([0,0], [1,1], color = \"k\")\n",
    "plt.show()"
   ]
  },
  {
   "cell_type": "code",
   "execution_count": null,
   "id": "45d5a9ec",
   "metadata": {},
   "outputs": [],
   "source": [
    "print(score_k)\n",
    "cm_k"
   ]
  },
  {
   "cell_type": "markdown",
   "id": "0380a798",
   "metadata": {},
   "source": [
    "# Random Forest"
   ]
  },
  {
   "cell_type": "code",
   "execution_count": null,
   "id": "7b781dc9",
   "metadata": {},
   "outputs": [],
   "source": [
    "forest = RandomForestClassifier(max_depth = 6, n_estimators = 40, max_features = 5, random_state = 10)\n",
    "forest.fit(xtrain, ytrain)\n",
    "\n",
    "pred = forest.predict(xtest)\n",
    "y_score = forest.predict_proba(xtest)[:,1]\n",
    "score_t = accuracy_score(ytest, pred)\n",
    "cm_t = confusion_matrix(ytest, pred)\n",
    "fpr_rf, tpr_rf, _ = roc_curve(ytest, y_score)\n",
    "auc_rf = round(roc_auc_score(ytest, y_score),3)"
   ]
  },
  {
   "cell_type": "markdown",
   "id": "5411cbbe",
   "metadata": {},
   "source": [
    "### Feature Importance"
   ]
  },
  {
   "cell_type": "code",
   "execution_count": null,
   "id": "e394ba9b",
   "metadata": {},
   "outputs": [],
   "source": [
    "df_dic = {\"name\":[], \"importance\":[]}\n",
    "name = heart.columns\n",
    "for name, importance in zip(heart[name], forest.feature_importances_):\n",
    "    print(name, \"=\", importance)\n",
    "    df_dic[\"name\"].append(name) \n",
    "    df_dic[\"importance\"].append(importance)"
   ]
  },
  {
   "cell_type": "code",
   "execution_count": null,
   "id": "99d3a477",
   "metadata": {},
   "outputs": [],
   "source": [
    "df_dic\n",
    "df = pd.DataFrame.from_dict(df_dic)\n",
    "df = df.sort_values(by = \"importance\", ascending = False).reset_index(drop = True)"
   ]
  },
  {
   "cell_type": "code",
   "execution_count": null,
   "id": "53ba38bd",
   "metadata": {},
   "outputs": [],
   "source": [
    "plt.barh(df[\"name\"], df[\"importance\"])\n",
    "plt.title(\"Feature Importance\")\n",
    "plt.xlabel(\"Importance\")\n",
    "plt.ylabel(\"Feature\")\n",
    "plt.savefig(\"Importance.png\", bbox_inches = \"tight\")\n",
    "plt.show()"
   ]
  },
  {
   "cell_type": "code",
   "execution_count": null,
   "id": "76a84d4f",
   "metadata": {},
   "outputs": [],
   "source": [
    "plt.plot(fpr_rf, tpr_rf, label = \"AUC = \" + str(auc_rf))\n",
    "plt.legend()\n",
    "plt.ylabel(\"True Positive Rate\")\n",
    "plt.xlabel(\"False Positive Rate\")\n",
    "plt.title(\"ROC Curve\")\n",
    "plt.axline([0,0], [1,1], color = \"k\")\n",
    "plt.show()"
   ]
  },
  {
   "cell_type": "code",
   "execution_count": null,
   "id": "1278d864",
   "metadata": {},
   "outputs": [],
   "source": [
    "print(score_t)\n",
    "cm_t"
   ]
  },
  {
   "cell_type": "markdown",
   "id": "62aadf86",
   "metadata": {},
   "source": [
    "# Logistic Regression\n",
    "\n",
    "##### Using all features"
   ]
  },
  {
   "cell_type": "code",
   "execution_count": null,
   "id": "ca9cbca4",
   "metadata": {},
   "outputs": [],
   "source": [
    "log_reg = LogisticRegression(max_iter = 5000)\n",
    "log_reg.fit(xtrain,ytrain)"
   ]
  },
  {
   "cell_type": "code",
   "execution_count": null,
   "id": "16209a2c",
   "metadata": {},
   "outputs": [],
   "source": [
    "pred = log_reg.predict(xtest)\n",
    "y_score = log_reg.predict_proba(xtest)[:,1]\n",
    "score_lr_1 = accuracy_score(ytest, pred)\n",
    "cm_lr_1 = confusion_matrix(ytest, pred)\n",
    "fpr_lr_1, tpr_lr_1, _ = roc_curve(ytest, y_score)\n",
    "auc_lr_1 = round(roc_auc_score(ytest, y_score),3)"
   ]
  },
  {
   "cell_type": "code",
   "execution_count": null,
   "id": "fad3ab77",
   "metadata": {},
   "outputs": [],
   "source": [
    "plt.plot(fpr_lr_1, tpr_lr_1, label = \"AUC = \" + str(auc_lr_1))\n",
    "plt.legend()\n",
    "plt.ylabel(\"True Positive Rate\")\n",
    "plt.xlabel(\"False Positive Rate\")\n",
    "plt.title(\"ROC Curve\")\n",
    "plt.axline([0,0], [1,1], color = \"k\")\n",
    "plt.show()"
   ]
  },
  {
   "cell_type": "code",
   "execution_count": null,
   "id": "200014e5",
   "metadata": {},
   "outputs": [],
   "source": [
    "print(score_lr_1)\n",
    "cm_lr_1"
   ]
  },
  {
   "cell_type": "markdown",
   "id": "04c3d0f8",
   "metadata": {},
   "source": [
    "##### After Feature Selection"
   ]
  },
  {
   "cell_type": "code",
   "execution_count": null,
   "id": "4cb48a33",
   "metadata": {},
   "outputs": [],
   "source": [
    "heart = heart[[\"trtbps\", \"thalachh\", \"ATA\", \"exng\", \"STT_ab\", \"normal\", \"flat\", \"oldpeak\",\n",
    "              \"sex\", \"FD\", \"caa\", \"TA\", \"output\"]]\n",
    "X = heart.iloc[:,:-1]\n",
    "X = sm.add_constant(X)\n",
    "y = heart.iloc[:,-1]\n",
    "xtrain, xtest, ytrain, ytest = train_test_split(X, y, test_size = 0.20, random_state = 10)\n",
    "heart"
   ]
  },
  {
   "cell_type": "code",
   "execution_count": null,
   "id": "8accb064",
   "metadata": {},
   "outputs": [],
   "source": [
    "log_reg = LogisticRegression(max_iter = 5000)\n",
    "log_reg.fit(xtrain,ytrain)"
   ]
  },
  {
   "cell_type": "code",
   "execution_count": null,
   "id": "75ad451e",
   "metadata": {},
   "outputs": [],
   "source": [
    "log_reg.coef_"
   ]
  },
  {
   "cell_type": "code",
   "execution_count": null,
   "id": "2bf798b8",
   "metadata": {},
   "outputs": [],
   "source": [
    "pred = log_reg.predict(xtest)\n",
    "y_score = log_reg.predict_proba(xtest)[:,1]\n",
    "score_lr = accuracy_score(ytest, pred)\n",
    "cm_lr = confusion_matrix(ytest, pred)\n",
    "fpr_lr, tpr_lr, _ = roc_curve(ytest, y_score)\n",
    "auc_lr = round(roc_auc_score(ytest, y_score),3)"
   ]
  },
  {
   "cell_type": "code",
   "execution_count": null,
   "id": "eb7b5cc4",
   "metadata": {},
   "outputs": [],
   "source": [
    "plt.plot(fpr_lr, tpr_lr, label = \"AUC = \" + str(auc_lr))\n",
    "plt.legend()\n",
    "plt.ylabel(\"True Positive Rate\")\n",
    "plt.xlabel(\"False Positive Rate\")\n",
    "plt.title(\"ROC Curve\")\n",
    "plt.axline([0,0], [1,1], color = \"k\")\n",
    "plt.show()"
   ]
  },
  {
   "cell_type": "code",
   "execution_count": null,
   "id": "319790b8",
   "metadata": {},
   "outputs": [],
   "source": [
    "print(score_lr)\n",
    "cm_lr"
   ]
  },
  {
   "cell_type": "markdown",
   "id": "4e37cf8e",
   "metadata": {},
   "source": [
    "# Results"
   ]
  },
  {
   "cell_type": "code",
   "execution_count": null,
   "id": "ff3d422f",
   "metadata": {},
   "outputs": [],
   "source": [
    "plt.plot(fpr_k, tpr_k,label = \"KNN AUC = \" + str(auc_k))\n",
    "plt.plot(fpr_rf, tpr_rf, label = \"RF AUC = \" + str(auc_rf))\n",
    "plt.plot(fpr_lr_1, tpr_lr_1, label = \"LR AUC (all features) = \" + str(auc_lr_1))\n",
    "plt.plot(fpr_lr, tpr_lr, label = \"LR AUC = \" + str(auc_lr))\n",
    "plt.xlabel(\"False Positive Rate\")\n",
    "plt.ylabel(\"True Positive Rate\")\n",
    "plt.title(\"ROC Curve's\")\n",
    "plt.legend()\n",
    "plt.axline([0,0], [1,1], color = \"k\")\n",
    "plt.savefig(\"ROC.png\", bbox_inches = \"tight\")\n",
    "plt.show()"
   ]
  },
  {
   "cell_type": "code",
   "execution_count": null,
   "id": "94efa654",
   "metadata": {},
   "outputs": [],
   "source": [
    "print(\"KNN Accuracy Score: \" + str(round(score_k,4)))\n",
    "print(\"Random Forest Accuracy Score: \" + str(round(score_t,4)))\n",
    "print(\"Logistic Regression Accuracy Score (all features): \" + str(round(score_lr_1,4)))\n",
    "print(\"Logistic Regression Accuracy Score: \" + str(round(score_lr,4)))"
   ]
  },
  {
   "cell_type": "code",
   "execution_count": null,
   "id": "dfc27119",
   "metadata": {},
   "outputs": [],
   "source": [
    "print(\"KNN Confusion Matrix: \")\n",
    "print(cm_k)\n",
    "print(\"Random Forest Confusion Matrix: \")\n",
    "print(cm_t)\n",
    "print(\"Logistic Regression Confusion Matrix (all features): \")\n",
    "print(cm_lr_1)\n",
    "print(\"Logistic Regression Confusion Matrix: \")\n",
    "print(cm_lr)"
   ]
  }
 ],
 "metadata": {
  "kernelspec": {
   "display_name": "Python 3 (ipykernel)",
   "language": "python",
   "name": "python3"
  },
  "language_info": {
   "codemirror_mode": {
    "name": "ipython",
    "version": 3
   },
   "file_extension": ".py",
   "mimetype": "text/x-python",
   "name": "python",
   "nbconvert_exporter": "python",
   "pygments_lexer": "ipython3",
   "version": "3.8.16"
  }
 },
 "nbformat": 4,
 "nbformat_minor": 5
}
